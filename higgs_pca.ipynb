{
  "nbformat": 4,
  "nbformat_minor": 0,
  "metadata": {
    "colab": {
      "provenance": [],
      "collapsed_sections": [
        "OE6bsxU88AoX",
        "BwDb4YjPuQt7",
        "4kSAeUx3_dLR",
        "7MoOGFK1HmaX",
        "1t2L03nKHqi0",
        "luLi8gbo1bhE"
      ]
    },
    "kernelspec": {
      "name": "python3",
      "display_name": "Python 3"
    },
    "language_info": {
      "name": "python"
    }
  },
  "cells": [
    {
      "cell_type": "markdown",
      "source": [
        "Kaggle website:\n",
        "https://www.kaggle.com/competitions/higgs-boson/overview"
      ],
      "metadata": {
        "id": "PT9tfyCoC0CE"
      }
    },
    {
      "cell_type": "markdown",
      "source": [
        "Paper associated with the data: https://arxiv.org/pdf/1402.4735.pdf"
      ],
      "metadata": {
        "id": "X3zdpJ58CxiP"
      }
    },
    {
      "cell_type": "markdown",
      "source": [
        "# Standard Imports"
      ],
      "metadata": {
        "id": "OE6bsxU88AoX"
      }
    },
    {
      "cell_type": "code",
      "execution_count": 1,
      "metadata": {
        "id": "jFoBAuDjpp0m"
      },
      "outputs": [],
      "source": [
        "%matplotlib inline\n",
        "import matplotlib.pyplot as plt\n",
        "import pandas as pd\n",
        "import numpy as np\n",
        "#from sklearn.model_selection import train_test_split\n",
        "from sklearn.preprocessing import LabelEncoder  \n",
        "from sklearn.preprocessing import StandardScaler\n",
        "from sklearn.preprocessing import PolynomialFeatures\n",
        "from sklearn.decomposition import PCA\n",
        "from sklearn.metrics import confusion_matrix, ConfusionMatrixDisplay\n",
        "from sklearn.metrics import classification_report\n",
        "from sklearn.metrics import accuracy_score\n",
        "from sklearn.metrics import roc_auc_score"
      ]
    },
    {
      "cell_type": "code",
      "source": [
        "from sklearn.svm import SVC\n",
        "from sklearn.ensemble import RandomForestClassifier\n",
        "from sklearn.ensemble import GradientBoostingClassifier"
      ],
      "metadata": {
        "id": "tBZquZpnpyxS"
      },
      "execution_count": 4,
      "outputs": []
    },
    {
      "cell_type": "markdown",
      "source": [
        "#Data collection and cleaning"
      ],
      "metadata": {
        "id": "kYjKgrYy7-gP"
      }
    },
    {
      "cell_type": "code",
      "execution_count": 5,
      "metadata": {
        "colab": {
          "base_uri": "https://localhost:8080/",
          "height": 0
        },
        "id": "lFFxazJbcNZm",
        "outputId": "d32fb9d7-59a9-48d7-ad7d-0af58b8dc29b"
      },
      "outputs": [
        {
          "output_type": "stream",
          "name": "stdout",
          "text": [
            "Mounted at /content/drive\n"
          ]
        }
      ],
      "source": [
        "from google.colab import drive\n",
        "drive.mount('/content/drive')"
      ]
    },
    {
      "cell_type": "code",
      "source": [
        "cd drive/My\\Drive"
      ],
      "metadata": {
        "colab": {
          "base_uri": "https://localhost:8080/",
          "height": 0
        },
        "id": "aTvZRYXpcp1d",
        "outputId": "fe3dde7e-e634-4271-8c0b-cf516f61f98f"
      },
      "execution_count": 6,
      "outputs": [
        {
          "output_type": "stream",
          "name": "stdout",
          "text": [
            "/content/drive/MyDrive\n"
          ]
        }
      ]
    },
    {
      "cell_type": "code",
      "source": [
        "# Reading data\n",
        "#train = pd.read_csv('./higgs-boson/training.zip')\n",
        "test = pd.read_csv('./higgs-boson/test.zip')        #To do this you need to have the test.zip file downloaded\n",
        "\n",
        "#print(train.shape,test.shape)"
      ],
      "metadata": {
        "id": "pbWefxvlcRB8"
      },
      "execution_count": 7,
      "outputs": []
    },
    {
      "cell_type": "code",
      "source": [
        "train_url = \"https://github.com/karthikvasan99/higgs-boson-classification/blob/main/training.zip?raw=true\"\n",
        "\n",
        "train_alt = pd.read_csv(train_url, compression = 'zip')\n",
        "\n",
        "train_alt.head()"
      ],
      "metadata": {
        "colab": {
          "base_uri": "https://localhost:8080/",
          "height": 299
        },
        "id": "ByijBWjCgoRN",
        "outputId": "784edc70-53c6-4ec0-fb01-2a6737d0519b"
      },
      "execution_count": 8,
      "outputs": [
        {
          "output_type": "execute_result",
          "data": {
            "text/plain": [
              "   EventId  DER_mass_MMC  DER_mass_transverse_met_lep  DER_mass_vis  DER_pt_h  \\\n",
              "0   100000       138.470                       51.655        97.827    27.980   \n",
              "1   100001       160.937                       68.768       103.235    48.146   \n",
              "2   100002      -999.000                      162.172       125.953    35.635   \n",
              "3   100003       143.905                       81.417        80.943     0.414   \n",
              "4   100004       175.864                       16.915       134.805    16.405   \n",
              "\n",
              "   DER_deltaeta_jet_jet  DER_mass_jet_jet  DER_prodeta_jet_jet  \\\n",
              "0                  0.91           124.711                2.666   \n",
              "1               -999.00          -999.000             -999.000   \n",
              "2               -999.00          -999.000             -999.000   \n",
              "3               -999.00          -999.000             -999.000   \n",
              "4               -999.00          -999.000             -999.000   \n",
              "\n",
              "   DER_deltar_tau_lep  DER_pt_tot  ...  PRI_jet_num  PRI_jet_leading_pt  \\\n",
              "0               3.064      41.928  ...            2              67.435   \n",
              "1               3.473       2.078  ...            1              46.226   \n",
              "2               3.148       9.336  ...            1              44.251   \n",
              "3               3.310       0.414  ...            0            -999.000   \n",
              "4               3.891      16.405  ...            0            -999.000   \n",
              "\n",
              "   PRI_jet_leading_eta  PRI_jet_leading_phi  PRI_jet_subleading_pt  \\\n",
              "0                2.150                0.444                 46.062   \n",
              "1                0.725                1.158               -999.000   \n",
              "2                2.053               -2.028               -999.000   \n",
              "3             -999.000             -999.000               -999.000   \n",
              "4             -999.000             -999.000               -999.000   \n",
              "\n",
              "   PRI_jet_subleading_eta  PRI_jet_subleading_phi  PRI_jet_all_pt    Weight  \\\n",
              "0                    1.24                  -2.475         113.497  0.002653   \n",
              "1                 -999.00                -999.000          46.226  2.233584   \n",
              "2                 -999.00                -999.000          44.251  2.347389   \n",
              "3                 -999.00                -999.000          -0.000  5.446378   \n",
              "4                 -999.00                -999.000           0.000  6.245333   \n",
              "\n",
              "   Label  \n",
              "0      s  \n",
              "1      b  \n",
              "2      b  \n",
              "3      b  \n",
              "4      b  \n",
              "\n",
              "[5 rows x 33 columns]"
            ],
            "text/html": [
              "\n",
              "  <div id=\"df-3593e3e1-1d69-421c-b466-329d956101f3\">\n",
              "    <div class=\"colab-df-container\">\n",
              "      <div>\n",
              "<style scoped>\n",
              "    .dataframe tbody tr th:only-of-type {\n",
              "        vertical-align: middle;\n",
              "    }\n",
              "\n",
              "    .dataframe tbody tr th {\n",
              "        vertical-align: top;\n",
              "    }\n",
              "\n",
              "    .dataframe thead th {\n",
              "        text-align: right;\n",
              "    }\n",
              "</style>\n",
              "<table border=\"1\" class=\"dataframe\">\n",
              "  <thead>\n",
              "    <tr style=\"text-align: right;\">\n",
              "      <th></th>\n",
              "      <th>EventId</th>\n",
              "      <th>DER_mass_MMC</th>\n",
              "      <th>DER_mass_transverse_met_lep</th>\n",
              "      <th>DER_mass_vis</th>\n",
              "      <th>DER_pt_h</th>\n",
              "      <th>DER_deltaeta_jet_jet</th>\n",
              "      <th>DER_mass_jet_jet</th>\n",
              "      <th>DER_prodeta_jet_jet</th>\n",
              "      <th>DER_deltar_tau_lep</th>\n",
              "      <th>DER_pt_tot</th>\n",
              "      <th>...</th>\n",
              "      <th>PRI_jet_num</th>\n",
              "      <th>PRI_jet_leading_pt</th>\n",
              "      <th>PRI_jet_leading_eta</th>\n",
              "      <th>PRI_jet_leading_phi</th>\n",
              "      <th>PRI_jet_subleading_pt</th>\n",
              "      <th>PRI_jet_subleading_eta</th>\n",
              "      <th>PRI_jet_subleading_phi</th>\n",
              "      <th>PRI_jet_all_pt</th>\n",
              "      <th>Weight</th>\n",
              "      <th>Label</th>\n",
              "    </tr>\n",
              "  </thead>\n",
              "  <tbody>\n",
              "    <tr>\n",
              "      <th>0</th>\n",
              "      <td>100000</td>\n",
              "      <td>138.470</td>\n",
              "      <td>51.655</td>\n",
              "      <td>97.827</td>\n",
              "      <td>27.980</td>\n",
              "      <td>0.91</td>\n",
              "      <td>124.711</td>\n",
              "      <td>2.666</td>\n",
              "      <td>3.064</td>\n",
              "      <td>41.928</td>\n",
              "      <td>...</td>\n",
              "      <td>2</td>\n",
              "      <td>67.435</td>\n",
              "      <td>2.150</td>\n",
              "      <td>0.444</td>\n",
              "      <td>46.062</td>\n",
              "      <td>1.24</td>\n",
              "      <td>-2.475</td>\n",
              "      <td>113.497</td>\n",
              "      <td>0.002653</td>\n",
              "      <td>s</td>\n",
              "    </tr>\n",
              "    <tr>\n",
              "      <th>1</th>\n",
              "      <td>100001</td>\n",
              "      <td>160.937</td>\n",
              "      <td>68.768</td>\n",
              "      <td>103.235</td>\n",
              "      <td>48.146</td>\n",
              "      <td>-999.00</td>\n",
              "      <td>-999.000</td>\n",
              "      <td>-999.000</td>\n",
              "      <td>3.473</td>\n",
              "      <td>2.078</td>\n",
              "      <td>...</td>\n",
              "      <td>1</td>\n",
              "      <td>46.226</td>\n",
              "      <td>0.725</td>\n",
              "      <td>1.158</td>\n",
              "      <td>-999.000</td>\n",
              "      <td>-999.00</td>\n",
              "      <td>-999.000</td>\n",
              "      <td>46.226</td>\n",
              "      <td>2.233584</td>\n",
              "      <td>b</td>\n",
              "    </tr>\n",
              "    <tr>\n",
              "      <th>2</th>\n",
              "      <td>100002</td>\n",
              "      <td>-999.000</td>\n",
              "      <td>162.172</td>\n",
              "      <td>125.953</td>\n",
              "      <td>35.635</td>\n",
              "      <td>-999.00</td>\n",
              "      <td>-999.000</td>\n",
              "      <td>-999.000</td>\n",
              "      <td>3.148</td>\n",
              "      <td>9.336</td>\n",
              "      <td>...</td>\n",
              "      <td>1</td>\n",
              "      <td>44.251</td>\n",
              "      <td>2.053</td>\n",
              "      <td>-2.028</td>\n",
              "      <td>-999.000</td>\n",
              "      <td>-999.00</td>\n",
              "      <td>-999.000</td>\n",
              "      <td>44.251</td>\n",
              "      <td>2.347389</td>\n",
              "      <td>b</td>\n",
              "    </tr>\n",
              "    <tr>\n",
              "      <th>3</th>\n",
              "      <td>100003</td>\n",
              "      <td>143.905</td>\n",
              "      <td>81.417</td>\n",
              "      <td>80.943</td>\n",
              "      <td>0.414</td>\n",
              "      <td>-999.00</td>\n",
              "      <td>-999.000</td>\n",
              "      <td>-999.000</td>\n",
              "      <td>3.310</td>\n",
              "      <td>0.414</td>\n",
              "      <td>...</td>\n",
              "      <td>0</td>\n",
              "      <td>-999.000</td>\n",
              "      <td>-999.000</td>\n",
              "      <td>-999.000</td>\n",
              "      <td>-999.000</td>\n",
              "      <td>-999.00</td>\n",
              "      <td>-999.000</td>\n",
              "      <td>-0.000</td>\n",
              "      <td>5.446378</td>\n",
              "      <td>b</td>\n",
              "    </tr>\n",
              "    <tr>\n",
              "      <th>4</th>\n",
              "      <td>100004</td>\n",
              "      <td>175.864</td>\n",
              "      <td>16.915</td>\n",
              "      <td>134.805</td>\n",
              "      <td>16.405</td>\n",
              "      <td>-999.00</td>\n",
              "      <td>-999.000</td>\n",
              "      <td>-999.000</td>\n",
              "      <td>3.891</td>\n",
              "      <td>16.405</td>\n",
              "      <td>...</td>\n",
              "      <td>0</td>\n",
              "      <td>-999.000</td>\n",
              "      <td>-999.000</td>\n",
              "      <td>-999.000</td>\n",
              "      <td>-999.000</td>\n",
              "      <td>-999.00</td>\n",
              "      <td>-999.000</td>\n",
              "      <td>0.000</td>\n",
              "      <td>6.245333</td>\n",
              "      <td>b</td>\n",
              "    </tr>\n",
              "  </tbody>\n",
              "</table>\n",
              "<p>5 rows × 33 columns</p>\n",
              "</div>\n",
              "      <button class=\"colab-df-convert\" onclick=\"convertToInteractive('df-3593e3e1-1d69-421c-b466-329d956101f3')\"\n",
              "              title=\"Convert this dataframe to an interactive table.\"\n",
              "              style=\"display:none;\">\n",
              "        \n",
              "  <svg xmlns=\"http://www.w3.org/2000/svg\" height=\"24px\"viewBox=\"0 0 24 24\"\n",
              "       width=\"24px\">\n",
              "    <path d=\"M0 0h24v24H0V0z\" fill=\"none\"/>\n",
              "    <path d=\"M18.56 5.44l.94 2.06.94-2.06 2.06-.94-2.06-.94-.94-2.06-.94 2.06-2.06.94zm-11 1L8.5 8.5l.94-2.06 2.06-.94-2.06-.94L8.5 2.5l-.94 2.06-2.06.94zm10 10l.94 2.06.94-2.06 2.06-.94-2.06-.94-.94-2.06-.94 2.06-2.06.94z\"/><path d=\"M17.41 7.96l-1.37-1.37c-.4-.4-.92-.59-1.43-.59-.52 0-1.04.2-1.43.59L10.3 9.45l-7.72 7.72c-.78.78-.78 2.05 0 2.83L4 21.41c.39.39.9.59 1.41.59.51 0 1.02-.2 1.41-.59l7.78-7.78 2.81-2.81c.8-.78.8-2.07 0-2.86zM5.41 20L4 18.59l7.72-7.72 1.47 1.35L5.41 20z\"/>\n",
              "  </svg>\n",
              "      </button>\n",
              "      \n",
              "  <style>\n",
              "    .colab-df-container {\n",
              "      display:flex;\n",
              "      flex-wrap:wrap;\n",
              "      gap: 12px;\n",
              "    }\n",
              "\n",
              "    .colab-df-convert {\n",
              "      background-color: #E8F0FE;\n",
              "      border: none;\n",
              "      border-radius: 50%;\n",
              "      cursor: pointer;\n",
              "      display: none;\n",
              "      fill: #1967D2;\n",
              "      height: 32px;\n",
              "      padding: 0 0 0 0;\n",
              "      width: 32px;\n",
              "    }\n",
              "\n",
              "    .colab-df-convert:hover {\n",
              "      background-color: #E2EBFA;\n",
              "      box-shadow: 0px 1px 2px rgba(60, 64, 67, 0.3), 0px 1px 3px 1px rgba(60, 64, 67, 0.15);\n",
              "      fill: #174EA6;\n",
              "    }\n",
              "\n",
              "    [theme=dark] .colab-df-convert {\n",
              "      background-color: #3B4455;\n",
              "      fill: #D2E3FC;\n",
              "    }\n",
              "\n",
              "    [theme=dark] .colab-df-convert:hover {\n",
              "      background-color: #434B5C;\n",
              "      box-shadow: 0px 1px 3px 1px rgba(0, 0, 0, 0.15);\n",
              "      filter: drop-shadow(0px 1px 2px rgba(0, 0, 0, 0.3));\n",
              "      fill: #FFFFFF;\n",
              "    }\n",
              "  </style>\n",
              "\n",
              "      <script>\n",
              "        const buttonEl =\n",
              "          document.querySelector('#df-3593e3e1-1d69-421c-b466-329d956101f3 button.colab-df-convert');\n",
              "        buttonEl.style.display =\n",
              "          google.colab.kernel.accessAllowed ? 'block' : 'none';\n",
              "\n",
              "        async function convertToInteractive(key) {\n",
              "          const element = document.querySelector('#df-3593e3e1-1d69-421c-b466-329d956101f3');\n",
              "          const dataTable =\n",
              "            await google.colab.kernel.invokeFunction('convertToInteractive',\n",
              "                                                     [key], {});\n",
              "          if (!dataTable) return;\n",
              "\n",
              "          const docLinkHtml = 'Like what you see? Visit the ' +\n",
              "            '<a target=\"_blank\" href=https://colab.research.google.com/notebooks/data_table.ipynb>data table notebook</a>'\n",
              "            + ' to learn more about interactive tables.';\n",
              "          element.innerHTML = '';\n",
              "          dataTable['output_type'] = 'display_data';\n",
              "          await google.colab.output.renderOutput(dataTable, element);\n",
              "          const docLink = document.createElement('div');\n",
              "          docLink.innerHTML = docLinkHtml;\n",
              "          element.appendChild(docLink);\n",
              "        }\n",
              "      </script>\n",
              "    </div>\n",
              "  </div>\n",
              "  "
            ]
          },
          "metadata": {},
          "execution_count": 8
        }
      ]
    },
    {
      "cell_type": "code",
      "source": [
        "y = train_alt[\"Label\"]\n",
        "X = train_alt\n",
        "X_test = test"
      ],
      "metadata": {
        "id": "uZ9aSImVqgYB"
      },
      "execution_count": 18,
      "outputs": []
    },
    {
      "cell_type": "code",
      "source": [
        "X_test.head()"
      ],
      "metadata": {
        "colab": {
          "base_uri": "https://localhost:8080/",
          "height": 299
        },
        "id": "wCuTNQleyVdF",
        "outputId": "afc65131-278b-4f4b-91c9-264c7e3e56f7"
      },
      "execution_count": 19,
      "outputs": [
        {
          "output_type": "execute_result",
          "data": {
            "text/plain": [
              "   EventId  DER_mass_MMC  DER_mass_transverse_met_lep  DER_mass_vis  DER_pt_h  \\\n",
              "0   350000      -999.000                       79.589        23.916     3.036   \n",
              "1   350001       106.398                       67.490        87.949    49.994   \n",
              "2   350002       117.794                       56.226        96.358     4.137   \n",
              "3   350003       135.861                       30.604        97.288     9.104   \n",
              "4   350004        74.159                       82.772        58.731    89.646   \n",
              "\n",
              "   DER_deltaeta_jet_jet  DER_mass_jet_jet  DER_prodeta_jet_jet  \\\n",
              "0              -999.000          -999.000             -999.000   \n",
              "1              -999.000          -999.000             -999.000   \n",
              "2              -999.000          -999.000             -999.000   \n",
              "3              -999.000          -999.000             -999.000   \n",
              "4                 1.347           536.663               -0.339   \n",
              "\n",
              "   DER_deltar_tau_lep  DER_pt_tot  ...  PRI_met_phi  PRI_met_sumet  \\\n",
              "0               0.903       3.036  ...        2.022         98.556   \n",
              "1               2.048       2.679  ...       -1.138        176.251   \n",
              "2               2.755       4.137  ...       -1.868        111.505   \n",
              "3               2.811       9.104  ...        1.172        164.707   \n",
              "4               1.028      77.213  ...       -0.231        869.614   \n",
              "\n",
              "   PRI_jet_num  PRI_jet_leading_pt  PRI_jet_leading_eta  PRI_jet_leading_phi  \\\n",
              "0            0            -999.000             -999.000             -999.000   \n",
              "1            1              47.575               -0.553               -0.849   \n",
              "2            0            -999.000             -999.000             -999.000   \n",
              "3            0            -999.000             -999.000             -999.000   \n",
              "4            3             254.085               -1.013               -0.334   \n",
              "\n",
              "   PRI_jet_subleading_pt  PRI_jet_subleading_eta  PRI_jet_subleading_phi  \\\n",
              "0               -999.000                -999.000                -999.000   \n",
              "1               -999.000                -999.000                -999.000   \n",
              "2               -999.000                -999.000                -999.000   \n",
              "3               -999.000                -999.000                -999.000   \n",
              "4                185.857                   0.335                   2.587   \n",
              "\n",
              "   PRI_jet_all_pt  \n",
              "0          -0.000  \n",
              "1          47.575  \n",
              "2           0.000  \n",
              "3           0.000  \n",
              "4         599.213  \n",
              "\n",
              "[5 rows x 31 columns]"
            ],
            "text/html": [
              "\n",
              "  <div id=\"df-cd58e35a-ed6d-4def-8d1d-86b238a907a0\">\n",
              "    <div class=\"colab-df-container\">\n",
              "      <div>\n",
              "<style scoped>\n",
              "    .dataframe tbody tr th:only-of-type {\n",
              "        vertical-align: middle;\n",
              "    }\n",
              "\n",
              "    .dataframe tbody tr th {\n",
              "        vertical-align: top;\n",
              "    }\n",
              "\n",
              "    .dataframe thead th {\n",
              "        text-align: right;\n",
              "    }\n",
              "</style>\n",
              "<table border=\"1\" class=\"dataframe\">\n",
              "  <thead>\n",
              "    <tr style=\"text-align: right;\">\n",
              "      <th></th>\n",
              "      <th>EventId</th>\n",
              "      <th>DER_mass_MMC</th>\n",
              "      <th>DER_mass_transverse_met_lep</th>\n",
              "      <th>DER_mass_vis</th>\n",
              "      <th>DER_pt_h</th>\n",
              "      <th>DER_deltaeta_jet_jet</th>\n",
              "      <th>DER_mass_jet_jet</th>\n",
              "      <th>DER_prodeta_jet_jet</th>\n",
              "      <th>DER_deltar_tau_lep</th>\n",
              "      <th>DER_pt_tot</th>\n",
              "      <th>...</th>\n",
              "      <th>PRI_met_phi</th>\n",
              "      <th>PRI_met_sumet</th>\n",
              "      <th>PRI_jet_num</th>\n",
              "      <th>PRI_jet_leading_pt</th>\n",
              "      <th>PRI_jet_leading_eta</th>\n",
              "      <th>PRI_jet_leading_phi</th>\n",
              "      <th>PRI_jet_subleading_pt</th>\n",
              "      <th>PRI_jet_subleading_eta</th>\n",
              "      <th>PRI_jet_subleading_phi</th>\n",
              "      <th>PRI_jet_all_pt</th>\n",
              "    </tr>\n",
              "  </thead>\n",
              "  <tbody>\n",
              "    <tr>\n",
              "      <th>0</th>\n",
              "      <td>350000</td>\n",
              "      <td>-999.000</td>\n",
              "      <td>79.589</td>\n",
              "      <td>23.916</td>\n",
              "      <td>3.036</td>\n",
              "      <td>-999.000</td>\n",
              "      <td>-999.000</td>\n",
              "      <td>-999.000</td>\n",
              "      <td>0.903</td>\n",
              "      <td>3.036</td>\n",
              "      <td>...</td>\n",
              "      <td>2.022</td>\n",
              "      <td>98.556</td>\n",
              "      <td>0</td>\n",
              "      <td>-999.000</td>\n",
              "      <td>-999.000</td>\n",
              "      <td>-999.000</td>\n",
              "      <td>-999.000</td>\n",
              "      <td>-999.000</td>\n",
              "      <td>-999.000</td>\n",
              "      <td>-0.000</td>\n",
              "    </tr>\n",
              "    <tr>\n",
              "      <th>1</th>\n",
              "      <td>350001</td>\n",
              "      <td>106.398</td>\n",
              "      <td>67.490</td>\n",
              "      <td>87.949</td>\n",
              "      <td>49.994</td>\n",
              "      <td>-999.000</td>\n",
              "      <td>-999.000</td>\n",
              "      <td>-999.000</td>\n",
              "      <td>2.048</td>\n",
              "      <td>2.679</td>\n",
              "      <td>...</td>\n",
              "      <td>-1.138</td>\n",
              "      <td>176.251</td>\n",
              "      <td>1</td>\n",
              "      <td>47.575</td>\n",
              "      <td>-0.553</td>\n",
              "      <td>-0.849</td>\n",
              "      <td>-999.000</td>\n",
              "      <td>-999.000</td>\n",
              "      <td>-999.000</td>\n",
              "      <td>47.575</td>\n",
              "    </tr>\n",
              "    <tr>\n",
              "      <th>2</th>\n",
              "      <td>350002</td>\n",
              "      <td>117.794</td>\n",
              "      <td>56.226</td>\n",
              "      <td>96.358</td>\n",
              "      <td>4.137</td>\n",
              "      <td>-999.000</td>\n",
              "      <td>-999.000</td>\n",
              "      <td>-999.000</td>\n",
              "      <td>2.755</td>\n",
              "      <td>4.137</td>\n",
              "      <td>...</td>\n",
              "      <td>-1.868</td>\n",
              "      <td>111.505</td>\n",
              "      <td>0</td>\n",
              "      <td>-999.000</td>\n",
              "      <td>-999.000</td>\n",
              "      <td>-999.000</td>\n",
              "      <td>-999.000</td>\n",
              "      <td>-999.000</td>\n",
              "      <td>-999.000</td>\n",
              "      <td>0.000</td>\n",
              "    </tr>\n",
              "    <tr>\n",
              "      <th>3</th>\n",
              "      <td>350003</td>\n",
              "      <td>135.861</td>\n",
              "      <td>30.604</td>\n",
              "      <td>97.288</td>\n",
              "      <td>9.104</td>\n",
              "      <td>-999.000</td>\n",
              "      <td>-999.000</td>\n",
              "      <td>-999.000</td>\n",
              "      <td>2.811</td>\n",
              "      <td>9.104</td>\n",
              "      <td>...</td>\n",
              "      <td>1.172</td>\n",
              "      <td>164.707</td>\n",
              "      <td>0</td>\n",
              "      <td>-999.000</td>\n",
              "      <td>-999.000</td>\n",
              "      <td>-999.000</td>\n",
              "      <td>-999.000</td>\n",
              "      <td>-999.000</td>\n",
              "      <td>-999.000</td>\n",
              "      <td>0.000</td>\n",
              "    </tr>\n",
              "    <tr>\n",
              "      <th>4</th>\n",
              "      <td>350004</td>\n",
              "      <td>74.159</td>\n",
              "      <td>82.772</td>\n",
              "      <td>58.731</td>\n",
              "      <td>89.646</td>\n",
              "      <td>1.347</td>\n",
              "      <td>536.663</td>\n",
              "      <td>-0.339</td>\n",
              "      <td>1.028</td>\n",
              "      <td>77.213</td>\n",
              "      <td>...</td>\n",
              "      <td>-0.231</td>\n",
              "      <td>869.614</td>\n",
              "      <td>3</td>\n",
              "      <td>254.085</td>\n",
              "      <td>-1.013</td>\n",
              "      <td>-0.334</td>\n",
              "      <td>185.857</td>\n",
              "      <td>0.335</td>\n",
              "      <td>2.587</td>\n",
              "      <td>599.213</td>\n",
              "    </tr>\n",
              "  </tbody>\n",
              "</table>\n",
              "<p>5 rows × 31 columns</p>\n",
              "</div>\n",
              "      <button class=\"colab-df-convert\" onclick=\"convertToInteractive('df-cd58e35a-ed6d-4def-8d1d-86b238a907a0')\"\n",
              "              title=\"Convert this dataframe to an interactive table.\"\n",
              "              style=\"display:none;\">\n",
              "        \n",
              "  <svg xmlns=\"http://www.w3.org/2000/svg\" height=\"24px\"viewBox=\"0 0 24 24\"\n",
              "       width=\"24px\">\n",
              "    <path d=\"M0 0h24v24H0V0z\" fill=\"none\"/>\n",
              "    <path d=\"M18.56 5.44l.94 2.06.94-2.06 2.06-.94-2.06-.94-.94-2.06-.94 2.06-2.06.94zm-11 1L8.5 8.5l.94-2.06 2.06-.94-2.06-.94L8.5 2.5l-.94 2.06-2.06.94zm10 10l.94 2.06.94-2.06 2.06-.94-2.06-.94-.94-2.06-.94 2.06-2.06.94z\"/><path d=\"M17.41 7.96l-1.37-1.37c-.4-.4-.92-.59-1.43-.59-.52 0-1.04.2-1.43.59L10.3 9.45l-7.72 7.72c-.78.78-.78 2.05 0 2.83L4 21.41c.39.39.9.59 1.41.59.51 0 1.02-.2 1.41-.59l7.78-7.78 2.81-2.81c.8-.78.8-2.07 0-2.86zM5.41 20L4 18.59l7.72-7.72 1.47 1.35L5.41 20z\"/>\n",
              "  </svg>\n",
              "      </button>\n",
              "      \n",
              "  <style>\n",
              "    .colab-df-container {\n",
              "      display:flex;\n",
              "      flex-wrap:wrap;\n",
              "      gap: 12px;\n",
              "    }\n",
              "\n",
              "    .colab-df-convert {\n",
              "      background-color: #E8F0FE;\n",
              "      border: none;\n",
              "      border-radius: 50%;\n",
              "      cursor: pointer;\n",
              "      display: none;\n",
              "      fill: #1967D2;\n",
              "      height: 32px;\n",
              "      padding: 0 0 0 0;\n",
              "      width: 32px;\n",
              "    }\n",
              "\n",
              "    .colab-df-convert:hover {\n",
              "      background-color: #E2EBFA;\n",
              "      box-shadow: 0px 1px 2px rgba(60, 64, 67, 0.3), 0px 1px 3px 1px rgba(60, 64, 67, 0.15);\n",
              "      fill: #174EA6;\n",
              "    }\n",
              "\n",
              "    [theme=dark] .colab-df-convert {\n",
              "      background-color: #3B4455;\n",
              "      fill: #D2E3FC;\n",
              "    }\n",
              "\n",
              "    [theme=dark] .colab-df-convert:hover {\n",
              "      background-color: #434B5C;\n",
              "      box-shadow: 0px 1px 3px 1px rgba(0, 0, 0, 0.15);\n",
              "      filter: drop-shadow(0px 1px 2px rgba(0, 0, 0, 0.3));\n",
              "      fill: #FFFFFF;\n",
              "    }\n",
              "  </style>\n",
              "\n",
              "      <script>\n",
              "        const buttonEl =\n",
              "          document.querySelector('#df-cd58e35a-ed6d-4def-8d1d-86b238a907a0 button.colab-df-convert');\n",
              "        buttonEl.style.display =\n",
              "          google.colab.kernel.accessAllowed ? 'block' : 'none';\n",
              "\n",
              "        async function convertToInteractive(key) {\n",
              "          const element = document.querySelector('#df-cd58e35a-ed6d-4def-8d1d-86b238a907a0');\n",
              "          const dataTable =\n",
              "            await google.colab.kernel.invokeFunction('convertToInteractive',\n",
              "                                                     [key], {});\n",
              "          if (!dataTable) return;\n",
              "\n",
              "          const docLinkHtml = 'Like what you see? Visit the ' +\n",
              "            '<a target=\"_blank\" href=https://colab.research.google.com/notebooks/data_table.ipynb>data table notebook</a>'\n",
              "            + ' to learn more about interactive tables.';\n",
              "          element.innerHTML = '';\n",
              "          dataTable['output_type'] = 'display_data';\n",
              "          await google.colab.output.renderOutput(dataTable, element);\n",
              "          const docLink = document.createElement('div');\n",
              "          docLink.innerHTML = docLinkHtml;\n",
              "          element.appendChild(docLink);\n",
              "        }\n",
              "      </script>\n",
              "    </div>\n",
              "  </div>\n",
              "  "
            ]
          },
          "metadata": {},
          "execution_count": 19
        }
      ]
    },
    {
      "cell_type": "code",
      "source": [
        "X.head()"
      ],
      "metadata": {
        "colab": {
          "base_uri": "https://localhost:8080/",
          "height": 299
        },
        "id": "To0eo_7uyuuy",
        "outputId": "e8947c58-0958-42a7-d53f-8de9a886d648"
      },
      "execution_count": 20,
      "outputs": [
        {
          "output_type": "execute_result",
          "data": {
            "text/plain": [
              "   EventId  DER_mass_MMC  DER_mass_transverse_met_lep  DER_mass_vis  DER_pt_h  \\\n",
              "0   100000       138.470                       51.655        97.827    27.980   \n",
              "1   100001       160.937                       68.768       103.235    48.146   \n",
              "2   100002      -999.000                      162.172       125.953    35.635   \n",
              "3   100003       143.905                       81.417        80.943     0.414   \n",
              "4   100004       175.864                       16.915       134.805    16.405   \n",
              "\n",
              "   DER_deltaeta_jet_jet  DER_mass_jet_jet  DER_prodeta_jet_jet  \\\n",
              "0                  0.91           124.711                2.666   \n",
              "1               -999.00          -999.000             -999.000   \n",
              "2               -999.00          -999.000             -999.000   \n",
              "3               -999.00          -999.000             -999.000   \n",
              "4               -999.00          -999.000             -999.000   \n",
              "\n",
              "   DER_deltar_tau_lep  DER_pt_tot  ...  PRI_jet_num  PRI_jet_leading_pt  \\\n",
              "0               3.064      41.928  ...            2              67.435   \n",
              "1               3.473       2.078  ...            1              46.226   \n",
              "2               3.148       9.336  ...            1              44.251   \n",
              "3               3.310       0.414  ...            0            -999.000   \n",
              "4               3.891      16.405  ...            0            -999.000   \n",
              "\n",
              "   PRI_jet_leading_eta  PRI_jet_leading_phi  PRI_jet_subleading_pt  \\\n",
              "0                2.150                0.444                 46.062   \n",
              "1                0.725                1.158               -999.000   \n",
              "2                2.053               -2.028               -999.000   \n",
              "3             -999.000             -999.000               -999.000   \n",
              "4             -999.000             -999.000               -999.000   \n",
              "\n",
              "   PRI_jet_subleading_eta  PRI_jet_subleading_phi  PRI_jet_all_pt    Weight  \\\n",
              "0                    1.24                  -2.475         113.497  0.002653   \n",
              "1                 -999.00                -999.000          46.226  2.233584   \n",
              "2                 -999.00                -999.000          44.251  2.347389   \n",
              "3                 -999.00                -999.000          -0.000  5.446378   \n",
              "4                 -999.00                -999.000           0.000  6.245333   \n",
              "\n",
              "   Label  \n",
              "0      s  \n",
              "1      b  \n",
              "2      b  \n",
              "3      b  \n",
              "4      b  \n",
              "\n",
              "[5 rows x 33 columns]"
            ],
            "text/html": [
              "\n",
              "  <div id=\"df-d6666b35-f6f6-4677-9bf4-06a67da4e713\">\n",
              "    <div class=\"colab-df-container\">\n",
              "      <div>\n",
              "<style scoped>\n",
              "    .dataframe tbody tr th:only-of-type {\n",
              "        vertical-align: middle;\n",
              "    }\n",
              "\n",
              "    .dataframe tbody tr th {\n",
              "        vertical-align: top;\n",
              "    }\n",
              "\n",
              "    .dataframe thead th {\n",
              "        text-align: right;\n",
              "    }\n",
              "</style>\n",
              "<table border=\"1\" class=\"dataframe\">\n",
              "  <thead>\n",
              "    <tr style=\"text-align: right;\">\n",
              "      <th></th>\n",
              "      <th>EventId</th>\n",
              "      <th>DER_mass_MMC</th>\n",
              "      <th>DER_mass_transverse_met_lep</th>\n",
              "      <th>DER_mass_vis</th>\n",
              "      <th>DER_pt_h</th>\n",
              "      <th>DER_deltaeta_jet_jet</th>\n",
              "      <th>DER_mass_jet_jet</th>\n",
              "      <th>DER_prodeta_jet_jet</th>\n",
              "      <th>DER_deltar_tau_lep</th>\n",
              "      <th>DER_pt_tot</th>\n",
              "      <th>...</th>\n",
              "      <th>PRI_jet_num</th>\n",
              "      <th>PRI_jet_leading_pt</th>\n",
              "      <th>PRI_jet_leading_eta</th>\n",
              "      <th>PRI_jet_leading_phi</th>\n",
              "      <th>PRI_jet_subleading_pt</th>\n",
              "      <th>PRI_jet_subleading_eta</th>\n",
              "      <th>PRI_jet_subleading_phi</th>\n",
              "      <th>PRI_jet_all_pt</th>\n",
              "      <th>Weight</th>\n",
              "      <th>Label</th>\n",
              "    </tr>\n",
              "  </thead>\n",
              "  <tbody>\n",
              "    <tr>\n",
              "      <th>0</th>\n",
              "      <td>100000</td>\n",
              "      <td>138.470</td>\n",
              "      <td>51.655</td>\n",
              "      <td>97.827</td>\n",
              "      <td>27.980</td>\n",
              "      <td>0.91</td>\n",
              "      <td>124.711</td>\n",
              "      <td>2.666</td>\n",
              "      <td>3.064</td>\n",
              "      <td>41.928</td>\n",
              "      <td>...</td>\n",
              "      <td>2</td>\n",
              "      <td>67.435</td>\n",
              "      <td>2.150</td>\n",
              "      <td>0.444</td>\n",
              "      <td>46.062</td>\n",
              "      <td>1.24</td>\n",
              "      <td>-2.475</td>\n",
              "      <td>113.497</td>\n",
              "      <td>0.002653</td>\n",
              "      <td>s</td>\n",
              "    </tr>\n",
              "    <tr>\n",
              "      <th>1</th>\n",
              "      <td>100001</td>\n",
              "      <td>160.937</td>\n",
              "      <td>68.768</td>\n",
              "      <td>103.235</td>\n",
              "      <td>48.146</td>\n",
              "      <td>-999.00</td>\n",
              "      <td>-999.000</td>\n",
              "      <td>-999.000</td>\n",
              "      <td>3.473</td>\n",
              "      <td>2.078</td>\n",
              "      <td>...</td>\n",
              "      <td>1</td>\n",
              "      <td>46.226</td>\n",
              "      <td>0.725</td>\n",
              "      <td>1.158</td>\n",
              "      <td>-999.000</td>\n",
              "      <td>-999.00</td>\n",
              "      <td>-999.000</td>\n",
              "      <td>46.226</td>\n",
              "      <td>2.233584</td>\n",
              "      <td>b</td>\n",
              "    </tr>\n",
              "    <tr>\n",
              "      <th>2</th>\n",
              "      <td>100002</td>\n",
              "      <td>-999.000</td>\n",
              "      <td>162.172</td>\n",
              "      <td>125.953</td>\n",
              "      <td>35.635</td>\n",
              "      <td>-999.00</td>\n",
              "      <td>-999.000</td>\n",
              "      <td>-999.000</td>\n",
              "      <td>3.148</td>\n",
              "      <td>9.336</td>\n",
              "      <td>...</td>\n",
              "      <td>1</td>\n",
              "      <td>44.251</td>\n",
              "      <td>2.053</td>\n",
              "      <td>-2.028</td>\n",
              "      <td>-999.000</td>\n",
              "      <td>-999.00</td>\n",
              "      <td>-999.000</td>\n",
              "      <td>44.251</td>\n",
              "      <td>2.347389</td>\n",
              "      <td>b</td>\n",
              "    </tr>\n",
              "    <tr>\n",
              "      <th>3</th>\n",
              "      <td>100003</td>\n",
              "      <td>143.905</td>\n",
              "      <td>81.417</td>\n",
              "      <td>80.943</td>\n",
              "      <td>0.414</td>\n",
              "      <td>-999.00</td>\n",
              "      <td>-999.000</td>\n",
              "      <td>-999.000</td>\n",
              "      <td>3.310</td>\n",
              "      <td>0.414</td>\n",
              "      <td>...</td>\n",
              "      <td>0</td>\n",
              "      <td>-999.000</td>\n",
              "      <td>-999.000</td>\n",
              "      <td>-999.000</td>\n",
              "      <td>-999.000</td>\n",
              "      <td>-999.00</td>\n",
              "      <td>-999.000</td>\n",
              "      <td>-0.000</td>\n",
              "      <td>5.446378</td>\n",
              "      <td>b</td>\n",
              "    </tr>\n",
              "    <tr>\n",
              "      <th>4</th>\n",
              "      <td>100004</td>\n",
              "      <td>175.864</td>\n",
              "      <td>16.915</td>\n",
              "      <td>134.805</td>\n",
              "      <td>16.405</td>\n",
              "      <td>-999.00</td>\n",
              "      <td>-999.000</td>\n",
              "      <td>-999.000</td>\n",
              "      <td>3.891</td>\n",
              "      <td>16.405</td>\n",
              "      <td>...</td>\n",
              "      <td>0</td>\n",
              "      <td>-999.000</td>\n",
              "      <td>-999.000</td>\n",
              "      <td>-999.000</td>\n",
              "      <td>-999.000</td>\n",
              "      <td>-999.00</td>\n",
              "      <td>-999.000</td>\n",
              "      <td>0.000</td>\n",
              "      <td>6.245333</td>\n",
              "      <td>b</td>\n",
              "    </tr>\n",
              "  </tbody>\n",
              "</table>\n",
              "<p>5 rows × 33 columns</p>\n",
              "</div>\n",
              "      <button class=\"colab-df-convert\" onclick=\"convertToInteractive('df-d6666b35-f6f6-4677-9bf4-06a67da4e713')\"\n",
              "              title=\"Convert this dataframe to an interactive table.\"\n",
              "              style=\"display:none;\">\n",
              "        \n",
              "  <svg xmlns=\"http://www.w3.org/2000/svg\" height=\"24px\"viewBox=\"0 0 24 24\"\n",
              "       width=\"24px\">\n",
              "    <path d=\"M0 0h24v24H0V0z\" fill=\"none\"/>\n",
              "    <path d=\"M18.56 5.44l.94 2.06.94-2.06 2.06-.94-2.06-.94-.94-2.06-.94 2.06-2.06.94zm-11 1L8.5 8.5l.94-2.06 2.06-.94-2.06-.94L8.5 2.5l-.94 2.06-2.06.94zm10 10l.94 2.06.94-2.06 2.06-.94-2.06-.94-.94-2.06-.94 2.06-2.06.94z\"/><path d=\"M17.41 7.96l-1.37-1.37c-.4-.4-.92-.59-1.43-.59-.52 0-1.04.2-1.43.59L10.3 9.45l-7.72 7.72c-.78.78-.78 2.05 0 2.83L4 21.41c.39.39.9.59 1.41.59.51 0 1.02-.2 1.41-.59l7.78-7.78 2.81-2.81c.8-.78.8-2.07 0-2.86zM5.41 20L4 18.59l7.72-7.72 1.47 1.35L5.41 20z\"/>\n",
              "  </svg>\n",
              "      </button>\n",
              "      \n",
              "  <style>\n",
              "    .colab-df-container {\n",
              "      display:flex;\n",
              "      flex-wrap:wrap;\n",
              "      gap: 12px;\n",
              "    }\n",
              "\n",
              "    .colab-df-convert {\n",
              "      background-color: #E8F0FE;\n",
              "      border: none;\n",
              "      border-radius: 50%;\n",
              "      cursor: pointer;\n",
              "      display: none;\n",
              "      fill: #1967D2;\n",
              "      height: 32px;\n",
              "      padding: 0 0 0 0;\n",
              "      width: 32px;\n",
              "    }\n",
              "\n",
              "    .colab-df-convert:hover {\n",
              "      background-color: #E2EBFA;\n",
              "      box-shadow: 0px 1px 2px rgba(60, 64, 67, 0.3), 0px 1px 3px 1px rgba(60, 64, 67, 0.15);\n",
              "      fill: #174EA6;\n",
              "    }\n",
              "\n",
              "    [theme=dark] .colab-df-convert {\n",
              "      background-color: #3B4455;\n",
              "      fill: #D2E3FC;\n",
              "    }\n",
              "\n",
              "    [theme=dark] .colab-df-convert:hover {\n",
              "      background-color: #434B5C;\n",
              "      box-shadow: 0px 1px 3px 1px rgba(0, 0, 0, 0.15);\n",
              "      filter: drop-shadow(0px 1px 2px rgba(0, 0, 0, 0.3));\n",
              "      fill: #FFFFFF;\n",
              "    }\n",
              "  </style>\n",
              "\n",
              "      <script>\n",
              "        const buttonEl =\n",
              "          document.querySelector('#df-d6666b35-f6f6-4677-9bf4-06a67da4e713 button.colab-df-convert');\n",
              "        buttonEl.style.display =\n",
              "          google.colab.kernel.accessAllowed ? 'block' : 'none';\n",
              "\n",
              "        async function convertToInteractive(key) {\n",
              "          const element = document.querySelector('#df-d6666b35-f6f6-4677-9bf4-06a67da4e713');\n",
              "          const dataTable =\n",
              "            await google.colab.kernel.invokeFunction('convertToInteractive',\n",
              "                                                     [key], {});\n",
              "          if (!dataTable) return;\n",
              "\n",
              "          const docLinkHtml = 'Like what you see? Visit the ' +\n",
              "            '<a target=\"_blank\" href=https://colab.research.google.com/notebooks/data_table.ipynb>data table notebook</a>'\n",
              "            + ' to learn more about interactive tables.';\n",
              "          element.innerHTML = '';\n",
              "          dataTable['output_type'] = 'display_data';\n",
              "          await google.colab.output.renderOutput(dataTable, element);\n",
              "          const docLink = document.createElement('div');\n",
              "          docLink.innerHTML = docLinkHtml;\n",
              "          element.appendChild(docLink);\n",
              "        }\n",
              "      </script>\n",
              "    </div>\n",
              "  </div>\n",
              "  "
            ]
          },
          "metadata": {},
          "execution_count": 20
        }
      ]
    },
    {
      "cell_type": "code",
      "source": [
        "X= X.drop(['EventId','Weight','Label'],axis = 1)\n",
        "X_test = X_test.drop(['EventId'],axis = 1)\n",
        "\n",
        "X.head()"
      ],
      "metadata": {
        "colab": {
          "base_uri": "https://localhost:8080/",
          "height": 299
        },
        "id": "pePbs5MNwF1S",
        "outputId": "bc15d521-f509-47af-8d3f-1a90b73ec2e7"
      },
      "execution_count": 21,
      "outputs": [
        {
          "output_type": "execute_result",
          "data": {
            "text/plain": [
              "   DER_mass_MMC  DER_mass_transverse_met_lep  DER_mass_vis  DER_pt_h  \\\n",
              "0       138.470                       51.655        97.827    27.980   \n",
              "1       160.937                       68.768       103.235    48.146   \n",
              "2      -999.000                      162.172       125.953    35.635   \n",
              "3       143.905                       81.417        80.943     0.414   \n",
              "4       175.864                       16.915       134.805    16.405   \n",
              "\n",
              "   DER_deltaeta_jet_jet  DER_mass_jet_jet  DER_prodeta_jet_jet  \\\n",
              "0                  0.91           124.711                2.666   \n",
              "1               -999.00          -999.000             -999.000   \n",
              "2               -999.00          -999.000             -999.000   \n",
              "3               -999.00          -999.000             -999.000   \n",
              "4               -999.00          -999.000             -999.000   \n",
              "\n",
              "   DER_deltar_tau_lep  DER_pt_tot  DER_sum_pt  ...  PRI_met_phi  \\\n",
              "0               3.064      41.928     197.760  ...       -0.277   \n",
              "1               3.473       2.078     125.157  ...       -1.916   \n",
              "2               3.148       9.336     197.814  ...       -2.186   \n",
              "3               3.310       0.414      75.968  ...        0.060   \n",
              "4               3.891      16.405      57.983  ...       -0.871   \n",
              "\n",
              "   PRI_met_sumet  PRI_jet_num  PRI_jet_leading_pt  PRI_jet_leading_eta  \\\n",
              "0        258.733            2              67.435                2.150   \n",
              "1        164.546            1              46.226                0.725   \n",
              "2        260.414            1              44.251                2.053   \n",
              "3         86.062            0            -999.000             -999.000   \n",
              "4         53.131            0            -999.000             -999.000   \n",
              "\n",
              "   PRI_jet_leading_phi  PRI_jet_subleading_pt  PRI_jet_subleading_eta  \\\n",
              "0                0.444                 46.062                    1.24   \n",
              "1                1.158               -999.000                 -999.00   \n",
              "2               -2.028               -999.000                 -999.00   \n",
              "3             -999.000               -999.000                 -999.00   \n",
              "4             -999.000               -999.000                 -999.00   \n",
              "\n",
              "   PRI_jet_subleading_phi  PRI_jet_all_pt  \n",
              "0                  -2.475         113.497  \n",
              "1                -999.000          46.226  \n",
              "2                -999.000          44.251  \n",
              "3                -999.000          -0.000  \n",
              "4                -999.000           0.000  \n",
              "\n",
              "[5 rows x 30 columns]"
            ],
            "text/html": [
              "\n",
              "  <div id=\"df-843359f8-cd08-4e84-b97a-6e6601cb9803\">\n",
              "    <div class=\"colab-df-container\">\n",
              "      <div>\n",
              "<style scoped>\n",
              "    .dataframe tbody tr th:only-of-type {\n",
              "        vertical-align: middle;\n",
              "    }\n",
              "\n",
              "    .dataframe tbody tr th {\n",
              "        vertical-align: top;\n",
              "    }\n",
              "\n",
              "    .dataframe thead th {\n",
              "        text-align: right;\n",
              "    }\n",
              "</style>\n",
              "<table border=\"1\" class=\"dataframe\">\n",
              "  <thead>\n",
              "    <tr style=\"text-align: right;\">\n",
              "      <th></th>\n",
              "      <th>DER_mass_MMC</th>\n",
              "      <th>DER_mass_transverse_met_lep</th>\n",
              "      <th>DER_mass_vis</th>\n",
              "      <th>DER_pt_h</th>\n",
              "      <th>DER_deltaeta_jet_jet</th>\n",
              "      <th>DER_mass_jet_jet</th>\n",
              "      <th>DER_prodeta_jet_jet</th>\n",
              "      <th>DER_deltar_tau_lep</th>\n",
              "      <th>DER_pt_tot</th>\n",
              "      <th>DER_sum_pt</th>\n",
              "      <th>...</th>\n",
              "      <th>PRI_met_phi</th>\n",
              "      <th>PRI_met_sumet</th>\n",
              "      <th>PRI_jet_num</th>\n",
              "      <th>PRI_jet_leading_pt</th>\n",
              "      <th>PRI_jet_leading_eta</th>\n",
              "      <th>PRI_jet_leading_phi</th>\n",
              "      <th>PRI_jet_subleading_pt</th>\n",
              "      <th>PRI_jet_subleading_eta</th>\n",
              "      <th>PRI_jet_subleading_phi</th>\n",
              "      <th>PRI_jet_all_pt</th>\n",
              "    </tr>\n",
              "  </thead>\n",
              "  <tbody>\n",
              "    <tr>\n",
              "      <th>0</th>\n",
              "      <td>138.470</td>\n",
              "      <td>51.655</td>\n",
              "      <td>97.827</td>\n",
              "      <td>27.980</td>\n",
              "      <td>0.91</td>\n",
              "      <td>124.711</td>\n",
              "      <td>2.666</td>\n",
              "      <td>3.064</td>\n",
              "      <td>41.928</td>\n",
              "      <td>197.760</td>\n",
              "      <td>...</td>\n",
              "      <td>-0.277</td>\n",
              "      <td>258.733</td>\n",
              "      <td>2</td>\n",
              "      <td>67.435</td>\n",
              "      <td>2.150</td>\n",
              "      <td>0.444</td>\n",
              "      <td>46.062</td>\n",
              "      <td>1.24</td>\n",
              "      <td>-2.475</td>\n",
              "      <td>113.497</td>\n",
              "    </tr>\n",
              "    <tr>\n",
              "      <th>1</th>\n",
              "      <td>160.937</td>\n",
              "      <td>68.768</td>\n",
              "      <td>103.235</td>\n",
              "      <td>48.146</td>\n",
              "      <td>-999.00</td>\n",
              "      <td>-999.000</td>\n",
              "      <td>-999.000</td>\n",
              "      <td>3.473</td>\n",
              "      <td>2.078</td>\n",
              "      <td>125.157</td>\n",
              "      <td>...</td>\n",
              "      <td>-1.916</td>\n",
              "      <td>164.546</td>\n",
              "      <td>1</td>\n",
              "      <td>46.226</td>\n",
              "      <td>0.725</td>\n",
              "      <td>1.158</td>\n",
              "      <td>-999.000</td>\n",
              "      <td>-999.00</td>\n",
              "      <td>-999.000</td>\n",
              "      <td>46.226</td>\n",
              "    </tr>\n",
              "    <tr>\n",
              "      <th>2</th>\n",
              "      <td>-999.000</td>\n",
              "      <td>162.172</td>\n",
              "      <td>125.953</td>\n",
              "      <td>35.635</td>\n",
              "      <td>-999.00</td>\n",
              "      <td>-999.000</td>\n",
              "      <td>-999.000</td>\n",
              "      <td>3.148</td>\n",
              "      <td>9.336</td>\n",
              "      <td>197.814</td>\n",
              "      <td>...</td>\n",
              "      <td>-2.186</td>\n",
              "      <td>260.414</td>\n",
              "      <td>1</td>\n",
              "      <td>44.251</td>\n",
              "      <td>2.053</td>\n",
              "      <td>-2.028</td>\n",
              "      <td>-999.000</td>\n",
              "      <td>-999.00</td>\n",
              "      <td>-999.000</td>\n",
              "      <td>44.251</td>\n",
              "    </tr>\n",
              "    <tr>\n",
              "      <th>3</th>\n",
              "      <td>143.905</td>\n",
              "      <td>81.417</td>\n",
              "      <td>80.943</td>\n",
              "      <td>0.414</td>\n",
              "      <td>-999.00</td>\n",
              "      <td>-999.000</td>\n",
              "      <td>-999.000</td>\n",
              "      <td>3.310</td>\n",
              "      <td>0.414</td>\n",
              "      <td>75.968</td>\n",
              "      <td>...</td>\n",
              "      <td>0.060</td>\n",
              "      <td>86.062</td>\n",
              "      <td>0</td>\n",
              "      <td>-999.000</td>\n",
              "      <td>-999.000</td>\n",
              "      <td>-999.000</td>\n",
              "      <td>-999.000</td>\n",
              "      <td>-999.00</td>\n",
              "      <td>-999.000</td>\n",
              "      <td>-0.000</td>\n",
              "    </tr>\n",
              "    <tr>\n",
              "      <th>4</th>\n",
              "      <td>175.864</td>\n",
              "      <td>16.915</td>\n",
              "      <td>134.805</td>\n",
              "      <td>16.405</td>\n",
              "      <td>-999.00</td>\n",
              "      <td>-999.000</td>\n",
              "      <td>-999.000</td>\n",
              "      <td>3.891</td>\n",
              "      <td>16.405</td>\n",
              "      <td>57.983</td>\n",
              "      <td>...</td>\n",
              "      <td>-0.871</td>\n",
              "      <td>53.131</td>\n",
              "      <td>0</td>\n",
              "      <td>-999.000</td>\n",
              "      <td>-999.000</td>\n",
              "      <td>-999.000</td>\n",
              "      <td>-999.000</td>\n",
              "      <td>-999.00</td>\n",
              "      <td>-999.000</td>\n",
              "      <td>0.000</td>\n",
              "    </tr>\n",
              "  </tbody>\n",
              "</table>\n",
              "<p>5 rows × 30 columns</p>\n",
              "</div>\n",
              "      <button class=\"colab-df-convert\" onclick=\"convertToInteractive('df-843359f8-cd08-4e84-b97a-6e6601cb9803')\"\n",
              "              title=\"Convert this dataframe to an interactive table.\"\n",
              "              style=\"display:none;\">\n",
              "        \n",
              "  <svg xmlns=\"http://www.w3.org/2000/svg\" height=\"24px\"viewBox=\"0 0 24 24\"\n",
              "       width=\"24px\">\n",
              "    <path d=\"M0 0h24v24H0V0z\" fill=\"none\"/>\n",
              "    <path d=\"M18.56 5.44l.94 2.06.94-2.06 2.06-.94-2.06-.94-.94-2.06-.94 2.06-2.06.94zm-11 1L8.5 8.5l.94-2.06 2.06-.94-2.06-.94L8.5 2.5l-.94 2.06-2.06.94zm10 10l.94 2.06.94-2.06 2.06-.94-2.06-.94-.94-2.06-.94 2.06-2.06.94z\"/><path d=\"M17.41 7.96l-1.37-1.37c-.4-.4-.92-.59-1.43-.59-.52 0-1.04.2-1.43.59L10.3 9.45l-7.72 7.72c-.78.78-.78 2.05 0 2.83L4 21.41c.39.39.9.59 1.41.59.51 0 1.02-.2 1.41-.59l7.78-7.78 2.81-2.81c.8-.78.8-2.07 0-2.86zM5.41 20L4 18.59l7.72-7.72 1.47 1.35L5.41 20z\"/>\n",
              "  </svg>\n",
              "      </button>\n",
              "      \n",
              "  <style>\n",
              "    .colab-df-container {\n",
              "      display:flex;\n",
              "      flex-wrap:wrap;\n",
              "      gap: 12px;\n",
              "    }\n",
              "\n",
              "    .colab-df-convert {\n",
              "      background-color: #E8F0FE;\n",
              "      border: none;\n",
              "      border-radius: 50%;\n",
              "      cursor: pointer;\n",
              "      display: none;\n",
              "      fill: #1967D2;\n",
              "      height: 32px;\n",
              "      padding: 0 0 0 0;\n",
              "      width: 32px;\n",
              "    }\n",
              "\n",
              "    .colab-df-convert:hover {\n",
              "      background-color: #E2EBFA;\n",
              "      box-shadow: 0px 1px 2px rgba(60, 64, 67, 0.3), 0px 1px 3px 1px rgba(60, 64, 67, 0.15);\n",
              "      fill: #174EA6;\n",
              "    }\n",
              "\n",
              "    [theme=dark] .colab-df-convert {\n",
              "      background-color: #3B4455;\n",
              "      fill: #D2E3FC;\n",
              "    }\n",
              "\n",
              "    [theme=dark] .colab-df-convert:hover {\n",
              "      background-color: #434B5C;\n",
              "      box-shadow: 0px 1px 3px 1px rgba(0, 0, 0, 0.15);\n",
              "      filter: drop-shadow(0px 1px 2px rgba(0, 0, 0, 0.3));\n",
              "      fill: #FFFFFF;\n",
              "    }\n",
              "  </style>\n",
              "\n",
              "      <script>\n",
              "        const buttonEl =\n",
              "          document.querySelector('#df-843359f8-cd08-4e84-b97a-6e6601cb9803 button.colab-df-convert');\n",
              "        buttonEl.style.display =\n",
              "          google.colab.kernel.accessAllowed ? 'block' : 'none';\n",
              "\n",
              "        async function convertToInteractive(key) {\n",
              "          const element = document.querySelector('#df-843359f8-cd08-4e84-b97a-6e6601cb9803');\n",
              "          const dataTable =\n",
              "            await google.colab.kernel.invokeFunction('convertToInteractive',\n",
              "                                                     [key], {});\n",
              "          if (!dataTable) return;\n",
              "\n",
              "          const docLinkHtml = 'Like what you see? Visit the ' +\n",
              "            '<a target=\"_blank\" href=https://colab.research.google.com/notebooks/data_table.ipynb>data table notebook</a>'\n",
              "            + ' to learn more about interactive tables.';\n",
              "          element.innerHTML = '';\n",
              "          dataTable['output_type'] = 'display_data';\n",
              "          await google.colab.output.renderOutput(dataTable, element);\n",
              "          const docLink = document.createElement('div');\n",
              "          docLink.innerHTML = docLinkHtml;\n",
              "          element.appendChild(docLink);\n",
              "        }\n",
              "      </script>\n",
              "    </div>\n",
              "  </div>\n",
              "  "
            ]
          },
          "metadata": {},
          "execution_count": 21
        }
      ]
    },
    {
      "cell_type": "code",
      "source": [
        "X_test.head()"
      ],
      "metadata": {
        "colab": {
          "base_uri": "https://localhost:8080/",
          "height": 299
        },
        "id": "s1iqD8Ur2BWn",
        "outputId": "5610602b-906e-40dd-b021-9823d50a7703"
      },
      "execution_count": 22,
      "outputs": [
        {
          "output_type": "execute_result",
          "data": {
            "text/plain": [
              "   DER_mass_MMC  DER_mass_transverse_met_lep  DER_mass_vis  DER_pt_h  \\\n",
              "0      -999.000                       79.589        23.916     3.036   \n",
              "1       106.398                       67.490        87.949    49.994   \n",
              "2       117.794                       56.226        96.358     4.137   \n",
              "3       135.861                       30.604        97.288     9.104   \n",
              "4        74.159                       82.772        58.731    89.646   \n",
              "\n",
              "   DER_deltaeta_jet_jet  DER_mass_jet_jet  DER_prodeta_jet_jet  \\\n",
              "0              -999.000          -999.000             -999.000   \n",
              "1              -999.000          -999.000             -999.000   \n",
              "2              -999.000          -999.000             -999.000   \n",
              "3              -999.000          -999.000             -999.000   \n",
              "4                 1.347           536.663               -0.339   \n",
              "\n",
              "   DER_deltar_tau_lep  DER_pt_tot  DER_sum_pt  ...  PRI_met_phi  \\\n",
              "0               0.903       3.036      56.018  ...        2.022   \n",
              "1               2.048       2.679     132.865  ...       -1.138   \n",
              "2               2.755       4.137      97.600  ...       -1.868   \n",
              "3               2.811       9.104      94.112  ...        1.172   \n",
              "4               1.028      77.213     721.552  ...       -0.231   \n",
              "\n",
              "   PRI_met_sumet  PRI_jet_num  PRI_jet_leading_pt  PRI_jet_leading_eta  \\\n",
              "0         98.556            0            -999.000             -999.000   \n",
              "1        176.251            1              47.575               -0.553   \n",
              "2        111.505            0            -999.000             -999.000   \n",
              "3        164.707            0            -999.000             -999.000   \n",
              "4        869.614            3             254.085               -1.013   \n",
              "\n",
              "   PRI_jet_leading_phi  PRI_jet_subleading_pt  PRI_jet_subleading_eta  \\\n",
              "0             -999.000               -999.000                -999.000   \n",
              "1               -0.849               -999.000                -999.000   \n",
              "2             -999.000               -999.000                -999.000   \n",
              "3             -999.000               -999.000                -999.000   \n",
              "4               -0.334                185.857                   0.335   \n",
              "\n",
              "   PRI_jet_subleading_phi  PRI_jet_all_pt  \n",
              "0                -999.000          -0.000  \n",
              "1                -999.000          47.575  \n",
              "2                -999.000           0.000  \n",
              "3                -999.000           0.000  \n",
              "4                   2.587         599.213  \n",
              "\n",
              "[5 rows x 30 columns]"
            ],
            "text/html": [
              "\n",
              "  <div id=\"df-bd059148-f3bc-467a-b017-4414da09b273\">\n",
              "    <div class=\"colab-df-container\">\n",
              "      <div>\n",
              "<style scoped>\n",
              "    .dataframe tbody tr th:only-of-type {\n",
              "        vertical-align: middle;\n",
              "    }\n",
              "\n",
              "    .dataframe tbody tr th {\n",
              "        vertical-align: top;\n",
              "    }\n",
              "\n",
              "    .dataframe thead th {\n",
              "        text-align: right;\n",
              "    }\n",
              "</style>\n",
              "<table border=\"1\" class=\"dataframe\">\n",
              "  <thead>\n",
              "    <tr style=\"text-align: right;\">\n",
              "      <th></th>\n",
              "      <th>DER_mass_MMC</th>\n",
              "      <th>DER_mass_transverse_met_lep</th>\n",
              "      <th>DER_mass_vis</th>\n",
              "      <th>DER_pt_h</th>\n",
              "      <th>DER_deltaeta_jet_jet</th>\n",
              "      <th>DER_mass_jet_jet</th>\n",
              "      <th>DER_prodeta_jet_jet</th>\n",
              "      <th>DER_deltar_tau_lep</th>\n",
              "      <th>DER_pt_tot</th>\n",
              "      <th>DER_sum_pt</th>\n",
              "      <th>...</th>\n",
              "      <th>PRI_met_phi</th>\n",
              "      <th>PRI_met_sumet</th>\n",
              "      <th>PRI_jet_num</th>\n",
              "      <th>PRI_jet_leading_pt</th>\n",
              "      <th>PRI_jet_leading_eta</th>\n",
              "      <th>PRI_jet_leading_phi</th>\n",
              "      <th>PRI_jet_subleading_pt</th>\n",
              "      <th>PRI_jet_subleading_eta</th>\n",
              "      <th>PRI_jet_subleading_phi</th>\n",
              "      <th>PRI_jet_all_pt</th>\n",
              "    </tr>\n",
              "  </thead>\n",
              "  <tbody>\n",
              "    <tr>\n",
              "      <th>0</th>\n",
              "      <td>-999.000</td>\n",
              "      <td>79.589</td>\n",
              "      <td>23.916</td>\n",
              "      <td>3.036</td>\n",
              "      <td>-999.000</td>\n",
              "      <td>-999.000</td>\n",
              "      <td>-999.000</td>\n",
              "      <td>0.903</td>\n",
              "      <td>3.036</td>\n",
              "      <td>56.018</td>\n",
              "      <td>...</td>\n",
              "      <td>2.022</td>\n",
              "      <td>98.556</td>\n",
              "      <td>0</td>\n",
              "      <td>-999.000</td>\n",
              "      <td>-999.000</td>\n",
              "      <td>-999.000</td>\n",
              "      <td>-999.000</td>\n",
              "      <td>-999.000</td>\n",
              "      <td>-999.000</td>\n",
              "      <td>-0.000</td>\n",
              "    </tr>\n",
              "    <tr>\n",
              "      <th>1</th>\n",
              "      <td>106.398</td>\n",
              "      <td>67.490</td>\n",
              "      <td>87.949</td>\n",
              "      <td>49.994</td>\n",
              "      <td>-999.000</td>\n",
              "      <td>-999.000</td>\n",
              "      <td>-999.000</td>\n",
              "      <td>2.048</td>\n",
              "      <td>2.679</td>\n",
              "      <td>132.865</td>\n",
              "      <td>...</td>\n",
              "      <td>-1.138</td>\n",
              "      <td>176.251</td>\n",
              "      <td>1</td>\n",
              "      <td>47.575</td>\n",
              "      <td>-0.553</td>\n",
              "      <td>-0.849</td>\n",
              "      <td>-999.000</td>\n",
              "      <td>-999.000</td>\n",
              "      <td>-999.000</td>\n",
              "      <td>47.575</td>\n",
              "    </tr>\n",
              "    <tr>\n",
              "      <th>2</th>\n",
              "      <td>117.794</td>\n",
              "      <td>56.226</td>\n",
              "      <td>96.358</td>\n",
              "      <td>4.137</td>\n",
              "      <td>-999.000</td>\n",
              "      <td>-999.000</td>\n",
              "      <td>-999.000</td>\n",
              "      <td>2.755</td>\n",
              "      <td>4.137</td>\n",
              "      <td>97.600</td>\n",
              "      <td>...</td>\n",
              "      <td>-1.868</td>\n",
              "      <td>111.505</td>\n",
              "      <td>0</td>\n",
              "      <td>-999.000</td>\n",
              "      <td>-999.000</td>\n",
              "      <td>-999.000</td>\n",
              "      <td>-999.000</td>\n",
              "      <td>-999.000</td>\n",
              "      <td>-999.000</td>\n",
              "      <td>0.000</td>\n",
              "    </tr>\n",
              "    <tr>\n",
              "      <th>3</th>\n",
              "      <td>135.861</td>\n",
              "      <td>30.604</td>\n",
              "      <td>97.288</td>\n",
              "      <td>9.104</td>\n",
              "      <td>-999.000</td>\n",
              "      <td>-999.000</td>\n",
              "      <td>-999.000</td>\n",
              "      <td>2.811</td>\n",
              "      <td>9.104</td>\n",
              "      <td>94.112</td>\n",
              "      <td>...</td>\n",
              "      <td>1.172</td>\n",
              "      <td>164.707</td>\n",
              "      <td>0</td>\n",
              "      <td>-999.000</td>\n",
              "      <td>-999.000</td>\n",
              "      <td>-999.000</td>\n",
              "      <td>-999.000</td>\n",
              "      <td>-999.000</td>\n",
              "      <td>-999.000</td>\n",
              "      <td>0.000</td>\n",
              "    </tr>\n",
              "    <tr>\n",
              "      <th>4</th>\n",
              "      <td>74.159</td>\n",
              "      <td>82.772</td>\n",
              "      <td>58.731</td>\n",
              "      <td>89.646</td>\n",
              "      <td>1.347</td>\n",
              "      <td>536.663</td>\n",
              "      <td>-0.339</td>\n",
              "      <td>1.028</td>\n",
              "      <td>77.213</td>\n",
              "      <td>721.552</td>\n",
              "      <td>...</td>\n",
              "      <td>-0.231</td>\n",
              "      <td>869.614</td>\n",
              "      <td>3</td>\n",
              "      <td>254.085</td>\n",
              "      <td>-1.013</td>\n",
              "      <td>-0.334</td>\n",
              "      <td>185.857</td>\n",
              "      <td>0.335</td>\n",
              "      <td>2.587</td>\n",
              "      <td>599.213</td>\n",
              "    </tr>\n",
              "  </tbody>\n",
              "</table>\n",
              "<p>5 rows × 30 columns</p>\n",
              "</div>\n",
              "      <button class=\"colab-df-convert\" onclick=\"convertToInteractive('df-bd059148-f3bc-467a-b017-4414da09b273')\"\n",
              "              title=\"Convert this dataframe to an interactive table.\"\n",
              "              style=\"display:none;\">\n",
              "        \n",
              "  <svg xmlns=\"http://www.w3.org/2000/svg\" height=\"24px\"viewBox=\"0 0 24 24\"\n",
              "       width=\"24px\">\n",
              "    <path d=\"M0 0h24v24H0V0z\" fill=\"none\"/>\n",
              "    <path d=\"M18.56 5.44l.94 2.06.94-2.06 2.06-.94-2.06-.94-.94-2.06-.94 2.06-2.06.94zm-11 1L8.5 8.5l.94-2.06 2.06-.94-2.06-.94L8.5 2.5l-.94 2.06-2.06.94zm10 10l.94 2.06.94-2.06 2.06-.94-2.06-.94-.94-2.06-.94 2.06-2.06.94z\"/><path d=\"M17.41 7.96l-1.37-1.37c-.4-.4-.92-.59-1.43-.59-.52 0-1.04.2-1.43.59L10.3 9.45l-7.72 7.72c-.78.78-.78 2.05 0 2.83L4 21.41c.39.39.9.59 1.41.59.51 0 1.02-.2 1.41-.59l7.78-7.78 2.81-2.81c.8-.78.8-2.07 0-2.86zM5.41 20L4 18.59l7.72-7.72 1.47 1.35L5.41 20z\"/>\n",
              "  </svg>\n",
              "      </button>\n",
              "      \n",
              "  <style>\n",
              "    .colab-df-container {\n",
              "      display:flex;\n",
              "      flex-wrap:wrap;\n",
              "      gap: 12px;\n",
              "    }\n",
              "\n",
              "    .colab-df-convert {\n",
              "      background-color: #E8F0FE;\n",
              "      border: none;\n",
              "      border-radius: 50%;\n",
              "      cursor: pointer;\n",
              "      display: none;\n",
              "      fill: #1967D2;\n",
              "      height: 32px;\n",
              "      padding: 0 0 0 0;\n",
              "      width: 32px;\n",
              "    }\n",
              "\n",
              "    .colab-df-convert:hover {\n",
              "      background-color: #E2EBFA;\n",
              "      box-shadow: 0px 1px 2px rgba(60, 64, 67, 0.3), 0px 1px 3px 1px rgba(60, 64, 67, 0.15);\n",
              "      fill: #174EA6;\n",
              "    }\n",
              "\n",
              "    [theme=dark] .colab-df-convert {\n",
              "      background-color: #3B4455;\n",
              "      fill: #D2E3FC;\n",
              "    }\n",
              "\n",
              "    [theme=dark] .colab-df-convert:hover {\n",
              "      background-color: #434B5C;\n",
              "      box-shadow: 0px 1px 3px 1px rgba(0, 0, 0, 0.15);\n",
              "      filter: drop-shadow(0px 1px 2px rgba(0, 0, 0, 0.3));\n",
              "      fill: #FFFFFF;\n",
              "    }\n",
              "  </style>\n",
              "\n",
              "      <script>\n",
              "        const buttonEl =\n",
              "          document.querySelector('#df-bd059148-f3bc-467a-b017-4414da09b273 button.colab-df-convert');\n",
              "        buttonEl.style.display =\n",
              "          google.colab.kernel.accessAllowed ? 'block' : 'none';\n",
              "\n",
              "        async function convertToInteractive(key) {\n",
              "          const element = document.querySelector('#df-bd059148-f3bc-467a-b017-4414da09b273');\n",
              "          const dataTable =\n",
              "            await google.colab.kernel.invokeFunction('convertToInteractive',\n",
              "                                                     [key], {});\n",
              "          if (!dataTable) return;\n",
              "\n",
              "          const docLinkHtml = 'Like what you see? Visit the ' +\n",
              "            '<a target=\"_blank\" href=https://colab.research.google.com/notebooks/data_table.ipynb>data table notebook</a>'\n",
              "            + ' to learn more about interactive tables.';\n",
              "          element.innerHTML = '';\n",
              "          dataTable['output_type'] = 'display_data';\n",
              "          await google.colab.output.renderOutput(dataTable, element);\n",
              "          const docLink = document.createElement('div');\n",
              "          docLink.innerHTML = docLinkHtml;\n",
              "          element.appendChild(docLink);\n",
              "        }\n",
              "      </script>\n",
              "    </div>\n",
              "  </div>\n",
              "  "
            ]
          },
          "metadata": {},
          "execution_count": 22
        }
      ]
    },
    {
      "cell_type": "code",
      "source": [
        "X_train = np.asarray(X)[0:1000,:]\n",
        "X_val = np.asarray(X)[1000:1500,:]\n",
        "y_train = np.asarray(y)[0:1000]\n",
        "y_val = np.asarray(y)[1000:1500]\n",
        "print(X_train.shape)\n",
        "print(y_train.shape)\n",
        "print(X_val.shape)\n",
        "print(y_val.shape)"
      ],
      "metadata": {
        "colab": {
          "base_uri": "https://localhost:8080/",
          "height": 0
        },
        "id": "nt_T-1AewGUT",
        "outputId": "69b838ab-2642-49ff-f9dc-2b6b45994e68"
      },
      "execution_count": 23,
      "outputs": [
        {
          "output_type": "stream",
          "name": "stdout",
          "text": [
            "(1000, 30)\n",
            "(1000,)\n",
            "(500, 30)\n",
            "(500,)\n"
          ]
        }
      ]
    },
    {
      "cell_type": "markdown",
      "source": [
        "#Label encoding"
      ],
      "metadata": {
        "id": "b0zWLma8KiYN"
      }
    },
    {
      "cell_type": "code",
      "source": [
        "y_val"
      ],
      "metadata": {
        "colab": {
          "base_uri": "https://localhost:8080/",
          "height": 0
        },
        "id": "CcpjJSsotqBy",
        "outputId": "0a23e570-6dd1-432e-bd39-f4e852e35562"
      },
      "execution_count": 24,
      "outputs": [
        {
          "output_type": "execute_result",
          "data": {
            "text/plain": [
              "array(['b', 'b', 'b', 's', 's', 's', 's', 's', 's', 'b', 's', 'b', 's',\n",
              "       'b', 'b', 's', 'b', 'b', 's', 'b', 'b', 's', 'b', 's', 's', 's',\n",
              "       'b', 'b', 'b', 's', 'b', 's', 'b', 's', 's', 'b', 's', 'b', 'b',\n",
              "       'b', 'b', 'b', 's', 's', 'b', 's', 'b', 'b', 'b', 's', 's', 'b',\n",
              "       's', 'b', 'b', 's', 's', 's', 'b', 'b', 'b', 's', 's', 'b', 'b',\n",
              "       's', 'b', 's', 'b', 'b', 'b', 's', 's', 'b', 'b', 's', 'b', 'b',\n",
              "       's', 'b', 'b', 'b', 'b', 'b', 's', 'b', 'b', 'b', 's', 'b', 'b',\n",
              "       's', 'b', 'b', 'b', 'b', 's', 'b', 'b', 's', 'b', 's', 's', 'b',\n",
              "       'b', 's', 's', 'b', 's', 'b', 'b', 'b', 's', 's', 'b', 'b', 's',\n",
              "       'b', 's', 's', 'b', 'b', 'b', 'b', 'b', 'b', 'b', 'b', 'b', 's',\n",
              "       'b', 's', 'b', 's', 'b', 'b', 'b', 's', 'b', 'b', 's', 'b', 'b',\n",
              "       's', 's', 's', 's', 'b', 's', 'b', 'b', 's', 'b', 's', 'b', 's',\n",
              "       'b', 'b', 's', 's', 'b', 'b', 'b', 'b', 'b', 's', 'b', 'b', 'b',\n",
              "       'b', 's', 'b', 'b', 'b', 'b', 'b', 's', 'b', 's', 'b', 'b', 'b',\n",
              "       'b', 's', 'b', 's', 'b', 'b', 'b', 's', 'b', 'b', 's', 's', 's',\n",
              "       's', 'b', 'b', 's', 'b', 'b', 's', 'b', 'b', 'b', 'b', 'b', 'b',\n",
              "       's', 'b', 'b', 's', 'b', 'b', 'b', 'b', 'b', 'b', 'b', 'b', 'b',\n",
              "       'b', 's', 's', 'b', 's', 'b', 'b', 'b', 'b', 's', 'b', 'b', 'b',\n",
              "       'b', 'b', 'b', 'b', 'b', 'b', 'b', 'b', 'b', 's', 'b', 's', 's',\n",
              "       'b', 's', 'b', 'b', 'b', 'b', 'b', 'b', 'b', 'b', 'b', 's', 'b',\n",
              "       'b', 'b', 's', 'b', 's', 'b', 'b', 's', 'b', 'b', 's', 'b', 'b',\n",
              "       'b', 'b', 'b', 'b', 'b', 'b', 'b', 'b', 's', 'b', 'b', 'b', 'b',\n",
              "       's', 'b', 'b', 'b', 'b', 'b', 'b', 'b', 'b', 'b', 'b', 'b', 'b',\n",
              "       's', 'b', 'b', 'b', 'b', 'b', 'b', 's', 's', 'b', 'b', 's', 'b',\n",
              "       's', 'b', 's', 'b', 'b', 'b', 'b', 's', 'b', 'b', 'b', 'b', 'b',\n",
              "       's', 'b', 'b', 'b', 's', 's', 's', 's', 's', 's', 'b', 'b', 'b',\n",
              "       'b', 'b', 'b', 'b', 's', 's', 'b', 'b', 's', 'b', 'b', 'b', 'b',\n",
              "       's', 's', 's', 'b', 's', 's', 'b', 's', 'b', 'b', 'b', 'b', 'b',\n",
              "       's', 'b', 'b', 's', 'b', 'b', 'b', 'b', 'b', 'b', 'b', 's', 'b',\n",
              "       's', 'b', 's', 'b', 'b', 's', 'b', 's', 's', 's', 'b', 'b', 'b',\n",
              "       's', 'b', 'b', 'b', 'b', 'b', 'b', 's', 's', 'b', 'b', 'b', 'b',\n",
              "       's', 'b', 'b', 's', 's', 'b', 's', 'b', 'b', 's', 'b', 's', 's',\n",
              "       's', 's', 's', 'b', 'b', 'b', 's', 'b', 's', 's', 'b', 'b', 's',\n",
              "       'b', 'b', 'b', 'b', 's', 'b', 's', 'b', 'b', 'b', 's', 'b', 'b',\n",
              "       's', 'b', 'b', 'b', 'b', 'b', 'b', 's', 's', 'b', 'b', 's', 'b',\n",
              "       'b', 's', 's', 'b', 's', 'b', 'b', 'b', 'b', 'b', 's', 'b', 'b',\n",
              "       'b', 'b', 'b', 's', 'b', 's', 's', 'b', 'b', 'b', 'b', 'b', 'b',\n",
              "       'b', 'b', 'b', 'b', 's', 'b', 'b', 'b', 'b', 's', 'b', 'b', 'b',\n",
              "       's', 'b', 'b', 'b', 'b', 'b'], dtype=object)"
            ]
          },
          "metadata": {},
          "execution_count": 24
        }
      ]
    },
    {
      "cell_type": "code",
      "source": [
        "le = LabelEncoder()\n",
        "y_train = le.fit_transform(y_train)\n",
        "y_val = le.transform(y_val)"
      ],
      "metadata": {
        "id": "HHtSv9zT0owd"
      },
      "execution_count": 25,
      "outputs": []
    },
    {
      "cell_type": "code",
      "source": [
        "le.inverse_transform([0,1])"
      ],
      "metadata": {
        "colab": {
          "base_uri": "https://localhost:8080/",
          "height": 0
        },
        "id": "UhasRgP9MfvH",
        "outputId": "7495a197-e70c-4dd4-85cc-903eb7108c73"
      },
      "execution_count": 26,
      "outputs": [
        {
          "output_type": "execute_result",
          "data": {
            "text/plain": [
              "array(['b', 's'], dtype=object)"
            ]
          },
          "metadata": {},
          "execution_count": 26
        }
      ]
    },
    {
      "cell_type": "markdown",
      "source": [
        "#Scaling features"
      ],
      "metadata": {
        "id": "ZBlkYeyoKlSO"
      }
    },
    {
      "cell_type": "code",
      "source": [
        "std = StandardScaler()\n",
        "\n",
        "X_train = std.fit_transform(X_train)        #For training our model\n",
        "X_val = std.transform(X_val)                #For validating oue model\n",
        "X_test = std.transform(np.asarray(X_test))  #For submission"
      ],
      "metadata": {
        "id": "-7ZpRSpV0fqN"
      },
      "execution_count": 27,
      "outputs": []
    },
    {
      "cell_type": "code",
      "source": [
        "#Code to check mean and std of scaled data\n",
        "\n",
        "#for i in range(30):\n",
        "#  print(np.round(np.mean(X_train[:,i]),decimals=2),np.round(np.std(X_train[:,i]),decimals=2))"
      ],
      "metadata": {
        "id": "CjACTaT0wUvC"
      },
      "execution_count": null,
      "outputs": []
    },
    {
      "cell_type": "markdown",
      "source": [
        "# Classification already"
      ],
      "metadata": {
        "id": "BwDb4YjPuQt7"
      }
    },
    {
      "cell_type": "code",
      "source": [
        "model = GradientBoostingClassifier()\n",
        "model.fit(X_train, y_train)\n",
        "y_pred = model.predict(X_val)\n",
        "print(classification_report(y_val,y_pred))\n",
        "\n",
        "cm = confusion_matrix(y_val, y_pred)\n",
        "disp = ConfusionMatrixDisplay(confusion_matrix=cm)\n",
        "disp.plot()\n",
        "\n",
        "cm = confusion_matrix(y_train, model.predict(X_train))\n",
        "disp = ConfusionMatrixDisplay(confusion_matrix=cm)\n",
        "disp.plot()"
      ],
      "metadata": {
        "colab": {
          "base_uri": "https://localhost:8080/",
          "height": 719
        },
        "id": "f_5ZgNjHuJd8",
        "outputId": "3af87325-1bad-4d4d-ec0a-f0f130339c1d"
      },
      "execution_count": 29,
      "outputs": [
        {
          "output_type": "stream",
          "name": "stdout",
          "text": [
            "              precision    recall  f1-score   support\n",
            "\n",
            "           0       0.84      0.86      0.85       338\n",
            "           1       0.69      0.65      0.67       162\n",
            "\n",
            "    accuracy                           0.79       500\n",
            "   macro avg       0.77      0.76      0.76       500\n",
            "weighted avg       0.79      0.79      0.79       500\n",
            "\n"
          ]
        },
        {
          "output_type": "execute_result",
          "data": {
            "text/plain": [
              "<sklearn.metrics._plot.confusion_matrix.ConfusionMatrixDisplay at 0x7fc7fe8ddf50>"
            ]
          },
          "metadata": {},
          "execution_count": 29
        },
        {
          "output_type": "display_data",
          "data": {
            "text/plain": [
              "<Figure size 432x288 with 2 Axes>"
            ],
            "image/png": "[encoded data removed]"
          },
          "metadata": {
            "needs_background": "light"
          }
        },
        {
          "output_type": "display_data",
          "data": {
            "text/plain": [
              "<Figure size 432x288 with 2 Axes>"
            ],
            "image/png": "[encoded data removed]"
          },
          "metadata": {
            "needs_background": "light"
          }
        }
      ]
    },
    {
      "cell_type": "code",
      "source": [
        "roc_auc_score(y_val,model.predict_proba(X_val)[:,1])"
      ],
      "metadata": {
        "colab": {
          "base_uri": "https://localhost:8080/",
          "height": 0
        },
        "id": "STX3KwQkvYpy",
        "outputId": "df772b4f-65d5-4be7-b30f-1433f4eea6f1"
      },
      "execution_count": 30,
      "outputs": [
        {
          "output_type": "execute_result",
          "data": {
            "text/plain": [
              "0.8559518591569873"
            ]
          },
          "metadata": {},
          "execution_count": 30
        }
      ]
    },
    {
      "cell_type": "code",
      "source": [
        "loss=['deviance','exponential']\n",
        "learning_rate = [0.01,0.05,0.1]\n",
        "max_depth=[3,5,7,9]\n",
        "current_accuracy=0\n",
        "best_accuracy = 0\n",
        "best_model = None\n",
        "for L in loss:\n",
        "  for lr in learning_rate:\n",
        "    for md in max_depth:\n",
        "      model = GradientBoostingClassifier(loss=L, learning_rate=lr, max_depth=md)\n",
        "      model.fit(X_train, y_train)\n",
        "      y_pred = model.predict(X_val)\n",
        "      current_accuracy = accuracy_score(y_val,y_pred,normalize=True)\n",
        "      print(current_accuracy,best_accuracy,L,lr,md)\n",
        "      if current_accuracy >= best_accuracy:\n",
        "        best_accuracy = current_accuracy\n",
        "        best_model = model\n",
        "        parameters = [L,lr,md,best_accuracy]\n",
        "print(parameters,best_accuracy)"
      ],
      "metadata": {
        "colab": {
          "base_uri": "https://localhost:8080/",
          "height": 0
        },
        "id": "9ne-rGbCvyoz",
        "outputId": "796c6338-fdb0-48f0-89dd-8bbd8750c561"
      },
      "execution_count": 33,
      "outputs": [
        {
          "output_type": "stream",
          "name": "stdout",
          "text": [
            "0.792 0 deviance 0.01 3\n",
            "0.782 0.792 deviance 0.01 5\n",
            "0.756 0.792 deviance 0.01 7\n",
            "0.728 0.792 deviance 0.01 9\n",
            "0.8 0.792 deviance 0.05 3\n",
            "0.786 0.8 deviance 0.05 5\n",
            "0.786 0.8 deviance 0.05 7\n",
            "0.778 0.8 deviance 0.05 9\n",
            "0.79 0.8 deviance 0.1 3\n",
            "0.792 0.8 deviance 0.1 5\n",
            "0.792 0.8 deviance 0.1 7\n",
            "0.782 0.8 deviance 0.1 9\n",
            "0.79 0.8 exponential 0.01 3\n",
            "0.782 0.8 exponential 0.01 5\n",
            "0.758 0.8 exponential 0.01 7\n",
            "0.736 0.8 exponential 0.01 9\n",
            "0.81 0.8 exponential 0.05 3\n",
            "0.794 0.81 exponential 0.05 5\n",
            "0.792 0.81 exponential 0.05 7\n",
            "0.758 0.81 exponential 0.05 9\n",
            "0.796 0.81 exponential 0.1 3\n",
            "0.794 0.81 exponential 0.1 5\n",
            "0.798 0.81 exponential 0.1 7\n",
            "0.796 0.81 exponential 0.1 9\n",
            "['exponential', 0.05, 3, 0.81] 0.81\n"
          ]
        }
      ]
    },
    {
      "cell_type": "code",
      "source": [
        "roc_auc_score(y_val,best_model.predict_proba(X_val)[:,1])"
      ],
      "metadata": {
        "colab": {
          "base_uri": "https://localhost:8080/",
          "height": 0
        },
        "id": "GbCVxQkHwQB8",
        "outputId": "902730cf-45d2-44c4-b857-f8a8a620dd67"
      },
      "execution_count": 34,
      "outputs": [
        {
          "output_type": "execute_result",
          "data": {
            "text/plain": [
              "0.8614581050478486"
            ]
          },
          "metadata": {},
          "execution_count": 34
        }
      ]
    },
    {
      "cell_type": "markdown",
      "source": [
        "## Prediction for this model"
      ],
      "metadata": {
        "id": "cpPvbcyjw9Jy"
      }
    },
    {
      "cell_type": "code",
      "source": [
        "predictions = best_model.predict(X_test)"
      ],
      "metadata": {
        "id": "1NjDnd7_w8Uv"
      },
      "execution_count": 39,
      "outputs": []
    },
    {
      "cell_type": "code",
      "source": [
        "pp = best_model.predict_proba(X_test)[:,1]"
      ],
      "metadata": {
        "id": "kbbAQqZSxLua"
      },
      "execution_count": 43,
      "outputs": []
    },
    {
      "cell_type": "code",
      "source": [
        "predictions.shape"
      ],
      "metadata": {
        "colab": {
          "base_uri": "https://localhost:8080/"
        },
        "id": "ZKklg5jexbIW",
        "outputId": "6ee00b25-f8c8-43dd-cfbe-93f2c2137b92"
      },
      "execution_count": 44,
      "outputs": [
        {
          "output_type": "execute_result",
          "data": {
            "text/plain": [
              "(550000,)"
            ]
          },
          "metadata": {},
          "execution_count": 44
        }
      ]
    },
    {
      "cell_type": "code",
      "source": [
        "pp.shape"
      ],
      "metadata": {
        "colab": {
          "base_uri": "https://localhost:8080/"
        },
        "id": "Q_BFbVkpxi3H",
        "outputId": "3763c0da-33d4-4a56-f97e-cea27f838428"
      },
      "execution_count": 45,
      "outputs": [
        {
          "output_type": "execute_result",
          "data": {
            "text/plain": [
              "(550000,)"
            ]
          },
          "metadata": {},
          "execution_count": 45
        }
      ]
    },
    {
      "cell_type": "markdown",
      "source": [
        "#Polynomial Features"
      ],
      "metadata": {
        "id": "azAj_32L2sot"
      }
    },
    {
      "cell_type": "code",
      "source": [
        "poly = PolynomialFeatures(2)\n",
        "X_poly = poly.fit_transform(X_train)"
      ],
      "metadata": {
        "id": "b3GH3i__zSuj"
      },
      "execution_count": 58,
      "outputs": []
    },
    {
      "cell_type": "code",
      "source": [
        "X_test_1_poly = poly.transform(X_test[:100000,:])\n",
        "X_test_2_poly = poly.transform(X_test[100000:200000,:])"
      ],
      "metadata": {
        "id": "GfFfjHMM6BBY"
      },
      "execution_count": 59,
      "outputs": []
    },
    {
      "cell_type": "code",
      "source": [
        "X_test_3_poly = poly.transform(X_test[200000:300000,:])"
      ],
      "metadata": {
        "id": "yf0k4SGs7Jdh"
      },
      "execution_count": 60,
      "outputs": []
    },
    {
      "cell_type": "code",
      "source": [
        "X_test_4_poly = poly.transform(X_test[300000:400000,:])"
      ],
      "metadata": {
        "id": "EwZhdHWd7gGE"
      },
      "execution_count": 61,
      "outputs": []
    },
    {
      "cell_type": "code",
      "source": [
        "X_test_5_poly = poly.transform(X_test[400000:500000,:])\n",
        "X_test_6_poly = poly.transform(X_test[500000:,:])"
      ],
      "metadata": {
        "id": "vD4IVdJv7N71"
      },
      "execution_count": 62,
      "outputs": []
    },
    {
      "cell_type": "code",
      "source": [
        "X_val_poly = poly.transform(X_val)"
      ],
      "metadata": {
        "id": "Cz7BZlgS6VR4"
      },
      "execution_count": 63,
      "outputs": []
    },
    {
      "cell_type": "markdown",
      "source": [
        "#PCA"
      ],
      "metadata": {
        "id": "7WvRLsaE70g0"
      }
    },
    {
      "cell_type": "code",
      "source": [
        "pca = PCA(50)\n",
        "X_poly_pca = pca.fit_transform(X_poly)\n",
        "X_val_poly_pca = pca.transform(X_val_poly)"
      ],
      "metadata": {
        "id": "LYlhvtZ77zqd"
      },
      "execution_count": 64,
      "outputs": []
    },
    {
      "cell_type": "code",
      "source": [
        "print(X_poly.shape,X_poly_pca.shape)"
      ],
      "metadata": {
        "colab": {
          "base_uri": "https://localhost:8080/"
        },
        "id": "gFbqSJn38gBp",
        "outputId": "51bceec9-8cca-4a86-fb54-34fb0d2d65a8"
      },
      "execution_count": 65,
      "outputs": [
        {
          "output_type": "stream",
          "name": "stdout",
          "text": [
            "(1000, 496) (1000, 50)\n"
          ]
        }
      ]
    },
    {
      "cell_type": "code",
      "source": [
        "print(np.sum(pca.explained_variance_ratio_))\n",
        "plt.plot(np.cumsum(pca.explained_variance_ratio_))\n",
        "plt.xlabel('number of components')\n",
        "plt.ylabel('cumulative explained variance');"
      ],
      "metadata": {
        "colab": {
          "base_uri": "https://localhost:8080/",
          "height": 297
        },
        "id": "nOD5iT2m8icZ",
        "outputId": "76eaa94c-629d-4084-ff30-d866f851136d"
      },
      "execution_count": 66,
      "outputs": [
        {
          "output_type": "stream",
          "name": "stdout",
          "text": [
            "0.9167669930093665\n"
          ]
        },
        {
          "output_type": "display_data",
          "data": {
            "text/plain": [
              "<Figure size 432x288 with 1 Axes>"
            ],
            "image/png": "[encoded data removed]"
          },
          "metadata": {
            "needs_background": "light"
          }
        }
      ]
    },
    {
      "cell_type": "code",
      "source": [
        "X_test_1_pca = pca.transform(X_test_1_poly)"
      ],
      "metadata": {
        "id": "zwNn1P1IIREj"
      },
      "execution_count": 67,
      "outputs": []
    },
    {
      "cell_type": "code",
      "source": [
        "X_test_2_pca = pca.transform(X_test_2_poly)"
      ],
      "metadata": {
        "id": "gan3WqKbIcOQ"
      },
      "execution_count": 68,
      "outputs": []
    },
    {
      "cell_type": "code",
      "source": [
        "X_test_3_pca = pca.transform(X_test_3_poly)\n",
        "X_test_4_pca = pca.transform(X_test_4_poly)\n",
        "X_test_5_pca = pca.transform(X_test_5_poly)\n",
        "X_test_6_pca = pca.transform(X_test_6_poly)"
      ],
      "metadata": {
        "id": "G3mAuf2OIerI"
      },
      "execution_count": 69,
      "outputs": []
    },
    {
      "cell_type": "markdown",
      "source": [
        "#Models"
      ],
      "metadata": {
        "id": "AD-MOeEwHhmt"
      }
    },
    {
      "cell_type": "markdown",
      "source": [
        "## SVC"
      ],
      "metadata": {
        "id": "4kSAeUx3_dLR"
      }
    },
    {
      "cell_type": "code",
      "source": [
        "model = SVC()\n",
        "model.fit(X_poly_pca, y_train)\n",
        "y_pred = model.predict(X_val_poly_pca)\n",
        "print(classification_report(y_val,y_pred))\n",
        "\n",
        "cm = confusion_matrix(y_val, y_pred)\n",
        "disp = ConfusionMatrixDisplay(confusion_matrix=cm)\n",
        "disp.plot()\n",
        "\n",
        "cm = confusion_matrix(y_train, model.predict(X_poly_pca))\n",
        "disp = ConfusionMatrixDisplay(confusion_matrix=cm)\n",
        "disp.plot()"
      ],
      "metadata": {
        "colab": {
          "base_uri": "https://localhost:8080/",
          "height": 720
        },
        "id": "BNgyFT698rc6",
        "outputId": "79fa5fab-ec52-4643-8b1a-fb903cf85e83"
      },
      "execution_count": null,
      "outputs": [
        {
          "output_type": "stream",
          "name": "stdout",
          "text": [
            "              precision    recall  f1-score   support\n",
            "\n",
            "           0       0.74      0.91      0.82       338\n",
            "           1       0.65      0.35      0.45       162\n",
            "\n",
            "    accuracy                           0.73       500\n",
            "   macro avg       0.70      0.63      0.64       500\n",
            "weighted avg       0.71      0.73      0.70       500\n",
            "\n"
          ]
        },
        {
          "output_type": "execute_result",
          "data": {
            "text/plain": [
              "<sklearn.metrics._plot.confusion_matrix.ConfusionMatrixDisplay at 0x7f0841734e10>"
            ]
          },
          "metadata": {},
          "execution_count": 32
        },
        {
          "output_type": "display_data",
          "data": {
            "text/plain": [
              "<Figure size 432x288 with 2 Axes>"
            ],
            "image/png": "[encoded data removed]"
          },
          "metadata": {
            "needs_background": "light"
          }
        },
        {
          "output_type": "display_data",
          "data": {
            "text/plain": [
              "<Figure size 432x288 with 2 Axes>"
            ],
            "image/png": "[encoded data removed]"
          },
          "metadata": {
            "needs_background": "light"
          }
        }
      ]
    },
    {
      "cell_type": "markdown",
      "source": [
        "## Random Forest Classifier\n",
        "\n",
        "Best with default parameters"
      ],
      "metadata": {
        "id": "7MoOGFK1HmaX"
      }
    },
    {
      "cell_type": "code",
      "source": [
        "model = RandomForestClassifier()\n",
        "model.fit(X_poly_pca, y_train)\n",
        "y_pred = model.predict(X_val_poly_pca)\n",
        "print(classification_report(y_val,y_pred))\n",
        "\n",
        "cm = confusion_matrix(y_val, y_pred)\n",
        "disp = ConfusionMatrixDisplay(confusion_matrix=cm)\n",
        "disp.plot()\n",
        "\n",
        "cm = confusion_matrix(y_train, model.predict(X_poly_pca))\n",
        "disp = ConfusionMatrixDisplay(confusion_matrix=cm)\n",
        "disp.plot()"
      ],
      "metadata": {
        "colab": {
          "base_uri": "https://localhost:8080/",
          "height": 719
        },
        "id": "Wi44xdev_my6",
        "outputId": "3a8f2ea3-f5b8-4f11-e4a9-c40eba56c26d"
      },
      "execution_count": 70,
      "outputs": [
        {
          "output_type": "stream",
          "name": "stdout",
          "text": [
            "              precision    recall  f1-score   support\n",
            "\n",
            "           0       0.80      0.88      0.84       338\n",
            "           1       0.68      0.54      0.60       162\n",
            "\n",
            "    accuracy                           0.77       500\n",
            "   macro avg       0.74      0.71      0.72       500\n",
            "weighted avg       0.76      0.77      0.76       500\n",
            "\n"
          ]
        },
        {
          "output_type": "execute_result",
          "data": {
            "text/plain": [
              "<sklearn.metrics._plot.confusion_matrix.ConfusionMatrixDisplay at 0x7fc7fe2b21d0>"
            ]
          },
          "metadata": {},
          "execution_count": 70
        },
        {
          "output_type": "display_data",
          "data": {
            "text/plain": [
              "<Figure size 432x288 with 2 Axes>"
            ],
            "image/png": "[encoded data removed]"
          },
          "metadata": {
            "needs_background": "light"
          }
        },
        {
          "output_type": "display_data",
          "data": {
            "text/plain": [
              "<Figure size 432x288 with 2 Axes>"
            ],
            "image/png": "[encoded data removed]"
          },
          "metadata": {
            "needs_background": "light"
          }
        }
      ]
    },
    {
      "cell_type": "markdown",
      "source": [
        "## Gradient Boosting Classifier"
      ],
      "metadata": {
        "id": "1t2L03nKHqi0"
      }
    },
    {
      "cell_type": "code",
      "source": [
        "model = GradientBoostingClassifier()\n",
        "model.fit(X_poly_pca, y_train)\n",
        "y_pred = model.predict(X_val_poly_pca)\n",
        "print(classification_report(y_val,y_pred))\n",
        "\n",
        "cm = confusion_matrix(y_val, y_pred)\n",
        "disp = ConfusionMatrixDisplay(confusion_matrix=cm)\n",
        "disp.plot()\n",
        "\n",
        "cm = confusion_matrix(y_train, model.predict(X_poly_pca))\n",
        "disp = ConfusionMatrixDisplay(confusion_matrix=cm)\n",
        "disp.plot()"
      ],
      "metadata": {
        "colab": {
          "base_uri": "https://localhost:8080/",
          "height": 719
        },
        "id": "ysUbRBfaAQvI",
        "outputId": "60b07dcd-6b86-4132-ba43-a0e5765fed81"
      },
      "execution_count": 71,
      "outputs": [
        {
          "output_type": "stream",
          "name": "stdout",
          "text": [
            "              precision    recall  f1-score   support\n",
            "\n",
            "           0       0.82      0.85      0.83       338\n",
            "           1       0.66      0.60      0.63       162\n",
            "\n",
            "    accuracy                           0.77       500\n",
            "   macro avg       0.74      0.73      0.73       500\n",
            "weighted avg       0.77      0.77      0.77       500\n",
            "\n"
          ]
        },
        {
          "output_type": "execute_result",
          "data": {
            "text/plain": [
              "<sklearn.metrics._plot.confusion_matrix.ConfusionMatrixDisplay at 0x7fc7fb16ef90>"
            ]
          },
          "metadata": {},
          "execution_count": 71
        },
        {
          "output_type": "display_data",
          "data": {
            "text/plain": [
              "<Figure size 432x288 with 2 Axes>"
            ],
            "image/png": "[encoded data removed]"
          },
          "metadata": {
            "needs_background": "light"
          }
        },
        {
          "output_type": "display_data",
          "data": {
            "text/plain": [
              "<Figure size 432x288 with 2 Axes>"
            ],
            "image/png": "[encoded data removed]"
          },
          "metadata": {
            "needs_background": "light"
          }
        }
      ]
    },
    {
      "cell_type": "markdown",
      "source": [
        "#Grid Search"
      ],
      "metadata": {
        "id": "cpJMxeh6BP7F"
      }
    },
    {
      "cell_type": "markdown",
      "source": [
        "## GradientBoostClassifier"
      ],
      "metadata": {
        "id": "qFb1ji4xBTFf"
      }
    },
    {
      "cell_type": "code",
      "source": [
        "loss=['deviance','exponential']\n",
        "learning_rate = [0.01,0.05,0.1]\n",
        "max_depth=[3,5,7,9]\n",
        "current_accuracy=0\n",
        "best_accuracy = 0\n",
        "best_model = None\n",
        "for L in loss:\n",
        "  for lr in learning_rate:\n",
        "    for md in max_depth:\n",
        "      model = GradientBoostingClassifier(loss=L, learning_rate=lr, max_depth=md)\n",
        "      model.fit(X_poly_pca, y_train)\n",
        "      y_pred = model.predict(X_val_poly_pca)\n",
        "      current_accuracy = accuracy_score(y_val,y_pred,normalize=True)\n",
        "      print(current_accuracy,best_accuracy,L,lr,md)\n",
        "      if current_accuracy >= best_accuracy:\n",
        "        best_accuracy = current_accuracy\n",
        "        best_model = model\n",
        "        parameters = [L,lr,md,best_accuracy]\n",
        "print(parameters)"
      ],
      "metadata": {
        "colab": {
          "base_uri": "https://localhost:8080/"
        },
        "id": "Zy6aQ1rkAlXd",
        "outputId": "c1ff2b2f-b8da-42ac-a186-b1efdeaaaa7b"
      },
      "execution_count": 72,
      "outputs": [
        {
          "output_type": "stream",
          "name": "stdout",
          "text": [
            "0.704 0 deviance 0.01 3\n",
            "0.752 0.704 deviance 0.01 5\n",
            "0.756 0.752 deviance 0.01 7\n",
            "0.734 0.756 deviance 0.01 9\n",
            "0.754 0.756 deviance 0.05 3\n",
            "0.764 0.756 deviance 0.05 5\n",
            "0.776 0.764 deviance 0.05 7\n",
            "0.772 0.776 deviance 0.05 9\n",
            "0.772 0.776 deviance 0.1 3\n",
            "0.766 0.776 deviance 0.1 5\n",
            "0.776 0.776 deviance 0.1 7\n",
            "0.762 0.776 deviance 0.1 9\n",
            "0.7 0.776 exponential 0.01 3\n",
            "0.736 0.776 exponential 0.01 5\n",
            "0.764 0.776 exponential 0.01 7\n",
            "0.736 0.776 exponential 0.01 9\n",
            "0.752 0.776 exponential 0.05 3\n",
            "0.778 0.776 exponential 0.05 5\n",
            "0.764 0.778 exponential 0.05 7\n",
            "0.786 0.778 exponential 0.05 9\n",
            "0.76 0.786 exponential 0.1 3\n",
            "0.77 0.786 exponential 0.1 5\n",
            "0.77 0.786 exponential 0.1 7\n",
            "0.768 0.786 exponential 0.1 9\n",
            "['exponential', 0.05, 9, 0.786] 0.786\n"
          ]
        }
      ]
    },
    {
      "cell_type": "code",
      "source": [
        "best_model.predict_proba(X_val_poly_pca)"
      ],
      "metadata": {
        "colab": {
          "base_uri": "https://localhost:8080/"
        },
        "id": "dDVNcpyTG1ni",
        "outputId": "cd4384f8-1071-4ffb-c780-dbf1dac7be0f"
      },
      "execution_count": null,
      "outputs": [
        {
          "output_type": "execute_result",
          "data": {
            "text/plain": [
              "array([[9.95018406e-01, 4.98159366e-03],\n",
              "       [9.97605433e-01, 2.39456667e-03],\n",
              "       [9.95279917e-01, 4.72008332e-03],\n",
              "       [1.70279270e-02, 9.82972073e-01],\n",
              "       [8.62368359e-03, 9.91376316e-01],\n",
              "       [8.46087294e-01, 1.53912706e-01],\n",
              "       [9.70785652e-01, 2.92143482e-02],\n",
              "       [3.32313541e-02, 9.66768646e-01],\n",
              "       [1.10207451e-01, 8.89792549e-01],\n",
              "       [2.79666249e-01, 7.20333751e-01],\n",
              "       [9.93069727e-01, 6.93027281e-03],\n",
              "       [9.96480598e-01, 3.51940212e-03],\n",
              "       [6.30518705e-01, 3.69481295e-01],\n",
              "       [9.95095334e-01, 4.90466559e-03],\n",
              "       [9.68237498e-01, 3.17625022e-02],\n",
              "       [7.04140620e-03, 9.92958594e-01],\n",
              "       [7.59871401e-01, 2.40128599e-01],\n",
              "       [9.88523221e-01, 1.14767787e-02],\n",
              "       [1.94172937e-02, 9.80582706e-01],\n",
              "       [6.92906378e-01, 3.07093622e-01],\n",
              "       [9.97946218e-01, 2.05378196e-03],\n",
              "       [9.42474086e-01, 5.75259141e-02],\n",
              "       [9.94592546e-01, 5.40745401e-03],\n",
              "       [9.98485598e-01, 1.51440194e-03],\n",
              "       [1.28436182e-01, 8.71563818e-01],\n",
              "       [5.05144256e-03, 9.94948557e-01],\n",
              "       [9.95117939e-01, 4.88206107e-03],\n",
              "       [9.98423864e-01, 1.57613604e-03],\n",
              "       [9.69422351e-01, 3.05776492e-02],\n",
              "       [3.61896299e-02, 9.63810370e-01],\n",
              "       [7.69748490e-01, 2.30251510e-01],\n",
              "       [1.69050177e-01, 8.30949823e-01],\n",
              "       [9.99208953e-01, 7.91047391e-04],\n",
              "       [6.53097955e-01, 3.46902045e-01],\n",
              "       [7.47301846e-01, 2.52698154e-01],\n",
              "       [8.94705443e-01, 1.05294557e-01],\n",
              "       [9.97061733e-03, 9.90029383e-01],\n",
              "       [1.35361841e-01, 8.64638159e-01],\n",
              "       [9.67003762e-01, 3.29962385e-02],\n",
              "       [9.64031874e-01, 3.59681256e-02],\n",
              "       [9.79279643e-01, 2.07203573e-02],\n",
              "       [8.19241854e-01, 1.80758146e-01],\n",
              "       [1.99768804e-02, 9.80023120e-01],\n",
              "       [9.85604665e-01, 1.43953350e-02],\n",
              "       [9.98062403e-01, 1.93759669e-03],\n",
              "       [5.51485884e-01, 4.48514116e-01],\n",
              "       [8.35239024e-01, 1.64760976e-01],\n",
              "       [9.98598532e-01, 1.40146774e-03],\n",
              "       [7.89415864e-01, 2.10584136e-01],\n",
              "       [5.20421256e-01, 4.79578744e-01],\n",
              "       [3.52266921e-03, 9.96477331e-01],\n",
              "       [2.13826709e-01, 7.86173291e-01],\n",
              "       [9.82405161e-01, 1.75948394e-02],\n",
              "       [9.79192082e-01, 2.08079184e-02],\n",
              "       [3.73118285e-02, 9.62688172e-01],\n",
              "       [1.53644079e-01, 8.46355921e-01],\n",
              "       [3.24759623e-02, 9.67524038e-01],\n",
              "       [6.49702779e-02, 9.35029722e-01],\n",
              "       [3.65959999e-01, 6.34040001e-01],\n",
              "       [9.99416255e-01, 5.83744854e-04],\n",
              "       [9.97582212e-01, 2.41778825e-03],\n",
              "       [1.03614966e-01, 8.96385034e-01],\n",
              "       [1.15233531e-01, 8.84766469e-01],\n",
              "       [9.97928428e-01, 2.07157227e-03],\n",
              "       [7.94445685e-01, 2.05554315e-01],\n",
              "       [5.39149800e-01, 4.60850200e-01],\n",
              "       [9.95884495e-01, 4.11550498e-03],\n",
              "       [9.73806488e-01, 2.61935124e-02],\n",
              "       [8.00658276e-01, 1.99341724e-01],\n",
              "       [9.99410234e-01, 5.89765805e-04],\n",
              "       [9.79395243e-01, 2.06047569e-02],\n",
              "       [1.18853996e-01, 8.81146004e-01],\n",
              "       [8.89001096e-02, 9.11099890e-01],\n",
              "       [9.95509398e-01, 4.49060244e-03],\n",
              "       [9.99576886e-01, 4.23113937e-04],\n",
              "       [7.64671937e-01, 2.35328063e-01],\n",
              "       [7.43348547e-01, 2.56651453e-01],\n",
              "       [2.02963231e-01, 7.97036769e-01],\n",
              "       [1.13121903e-01, 8.86878097e-01],\n",
              "       [9.97079962e-01, 2.92003751e-03],\n",
              "       [9.94986114e-01, 5.01388587e-03],\n",
              "       [9.99038268e-01, 9.61731786e-04],\n",
              "       [9.56786947e-01, 4.32130534e-02],\n",
              "       [9.98304822e-01, 1.69517768e-03],\n",
              "       [9.92016812e-01, 7.98318769e-03],\n",
              "       [9.43410918e-01, 5.65890823e-02],\n",
              "       [8.92282098e-01, 1.07717902e-01],\n",
              "       [9.98898089e-01, 1.10191120e-03],\n",
              "       [6.20499541e-02, 9.37950046e-01],\n",
              "       [9.91509094e-01, 8.49090621e-03],\n",
              "       [9.97531415e-01, 2.46858474e-03],\n",
              "       [3.41004865e-01, 6.58995135e-01],\n",
              "       [8.93941073e-01, 1.06058927e-01],\n",
              "       [9.99662742e-01, 3.37257559e-04],\n",
              "       [9.99282933e-01, 7.17066730e-04],\n",
              "       [9.97819406e-01, 2.18059390e-03],\n",
              "       [5.51876929e-02, 9.44812307e-01],\n",
              "       [9.96944910e-01, 3.05509034e-03],\n",
              "       [6.28193282e-01, 3.71806718e-01],\n",
              "       [9.80997794e-01, 1.90022058e-02],\n",
              "       [9.56267519e-01, 4.37324808e-02],\n",
              "       [5.42952870e-02, 9.45704713e-01],\n",
              "       [9.78703579e-01, 2.12964205e-02],\n",
              "       [9.93947342e-01, 6.05265823e-03],\n",
              "       [9.75547651e-01, 2.44523492e-02],\n",
              "       [3.22414731e-02, 9.67758527e-01],\n",
              "       [1.31856230e-01, 8.68143770e-01],\n",
              "       [3.43713913e-01, 6.56286087e-01],\n",
              "       [7.44394959e-01, 2.55605041e-01],\n",
              "       [9.99630044e-01, 3.69955693e-04],\n",
              "       [9.26033341e-01, 7.39666592e-02],\n",
              "       [2.32183550e-01, 7.67816450e-01],\n",
              "       [7.83345538e-02, 9.21665446e-01],\n",
              "       [6.19628275e-01, 3.80371725e-01],\n",
              "       [9.99294887e-01, 7.05113385e-04],\n",
              "       [9.72415556e-01, 2.75844440e-02],\n",
              "       [8.73646962e-02, 9.12635304e-01],\n",
              "       [9.77512878e-01, 2.24871223e-02],\n",
              "       [1.24233114e-01, 8.75766886e-01],\n",
              "       [2.11263894e-01, 7.88736106e-01],\n",
              "       [9.97724681e-01, 2.27531869e-03],\n",
              "       [9.97321465e-01, 2.67853525e-03],\n",
              "       [9.42943915e-01, 5.70560852e-02],\n",
              "       [8.63474902e-02, 9.13652510e-01],\n",
              "       [9.96989884e-01, 3.01011636e-03],\n",
              "       [4.79753880e-01, 5.20246120e-01],\n",
              "       [1.31972354e-01, 8.68027646e-01],\n",
              "       [9.15155806e-01, 8.48441939e-02],\n",
              "       [9.98274740e-01, 1.72525979e-03],\n",
              "       [2.10217810e-01, 7.89782190e-01],\n",
              "       [9.99135508e-01, 8.64492117e-04],\n",
              "       [5.43520045e-01, 4.56479955e-01],\n",
              "       [9.93760681e-01, 6.23931937e-03],\n",
              "       [7.76336334e-01, 2.23663666e-01],\n",
              "       [9.94448210e-01, 5.55178957e-03],\n",
              "       [9.98771640e-01, 1.22836033e-03],\n",
              "       [1.13369402e-01, 8.86630598e-01],\n",
              "       [2.33099402e-01, 7.66900598e-01],\n",
              "       [7.43861772e-01, 2.56138228e-01],\n",
              "       [4.70253061e-02, 9.52974694e-01],\n",
              "       [6.90732828e-02, 9.30926717e-01],\n",
              "       [9.62762620e-01, 3.72373797e-02],\n",
              "       [9.95754744e-01, 4.24525622e-03],\n",
              "       [1.42010125e-02, 9.85798987e-01],\n",
              "       [9.69227299e-01, 3.07727011e-02],\n",
              "       [3.52990713e-02, 9.64700929e-01],\n",
              "       [8.42062298e-01, 1.57937702e-01],\n",
              "       [7.07492837e-01, 2.92507163e-01],\n",
              "       [3.73978869e-01, 6.26021131e-01],\n",
              "       [9.98293425e-01, 1.70657508e-03],\n",
              "       [9.85978549e-01, 1.40214509e-02],\n",
              "       [6.96500854e-01, 3.03499146e-01],\n",
              "       [5.91422116e-01, 4.08577884e-01],\n",
              "       [2.45996729e-01, 7.54003271e-01],\n",
              "       [9.99537050e-01, 4.62949900e-04],\n",
              "       [2.69952062e-01, 7.30047938e-01],\n",
              "       [2.60926431e-01, 7.39073569e-01],\n",
              "       [9.85971147e-01, 1.40288531e-02],\n",
              "       [6.10892882e-01, 3.89107118e-01],\n",
              "       [9.71717012e-01, 2.82829884e-02],\n",
              "       [9.95127247e-01, 4.87275270e-03],\n",
              "       [9.98044740e-01, 1.95525999e-03],\n",
              "       [9.41929646e-01, 5.80703539e-02],\n",
              "       [9.76948900e-01, 2.30510997e-02],\n",
              "       [2.22842112e-01, 7.77157888e-01],\n",
              "       [4.49392411e-01, 5.50607589e-01],\n",
              "       [9.98737088e-01, 1.26291191e-03],\n",
              "       [9.81401331e-01, 1.85986688e-02],\n",
              "       [8.68852493e-01, 1.31147507e-01],\n",
              "       [9.98842030e-01, 1.15796964e-03],\n",
              "       [2.92005028e-01, 7.07994972e-01],\n",
              "       [9.99288858e-01, 7.11142362e-04],\n",
              "       [8.43254190e-01, 1.56745810e-01],\n",
              "       [9.29959101e-01, 7.00408992e-02],\n",
              "       [9.91570404e-01, 8.42959556e-03],\n",
              "       [9.84331735e-01, 1.56682653e-02],\n",
              "       [2.33968549e-01, 7.66031451e-01],\n",
              "       [4.26558668e-02, 9.57344133e-01],\n",
              "       [2.76961945e-02, 9.72303805e-01],\n",
              "       [8.33275700e-01, 1.66724300e-01],\n",
              "       [9.54521183e-01, 4.54788167e-02],\n",
              "       [7.70864819e-01, 2.29135181e-01],\n",
              "       [7.34641260e-01, 2.65358740e-01],\n",
              "       [8.69507153e-02, 9.13049285e-01],\n",
              "       [9.99505052e-01, 4.94947666e-04],\n",
              "       [8.48261116e-03, 9.91517389e-01],\n",
              "       [9.85077889e-01, 1.49221110e-02],\n",
              "       [9.78820829e-01, 2.11791706e-02],\n",
              "       [9.94819921e-01, 5.18007874e-03],\n",
              "       [8.08419786e-03, 9.91915802e-01],\n",
              "       [5.37262689e-01, 4.62737311e-01],\n",
              "       [8.54967199e-01, 1.45032801e-01],\n",
              "       [6.82241494e-01, 3.17758506e-01],\n",
              "       [1.37287794e-01, 8.62712206e-01],\n",
              "       [9.93514991e-01, 6.48500870e-03],\n",
              "       [6.87384755e-02, 9.31261524e-01],\n",
              "       [9.99684851e-01, 3.15148586e-04],\n",
              "       [9.95533855e-01, 4.46614539e-03],\n",
              "       [9.04757723e-01, 9.52422773e-02],\n",
              "       [9.23166874e-01, 7.68331257e-02],\n",
              "       [9.98383819e-01, 1.61618113e-03],\n",
              "       [1.02655092e-01, 8.97344908e-01],\n",
              "       [9.35465010e-01, 6.45349895e-02],\n",
              "       [5.57098260e-01, 4.42901740e-01],\n",
              "       [3.41175034e-01, 6.58824966e-01],\n",
              "       [9.02154124e-01, 9.78458756e-02],\n",
              "       [9.98473859e-01, 1.52614135e-03],\n",
              "       [9.98999555e-01, 1.00044462e-03],\n",
              "       [4.54260740e-03, 9.95457393e-01],\n",
              "       [8.96911682e-02, 9.10308832e-01],\n",
              "       [7.44200384e-01, 2.55799616e-01],\n",
              "       [2.22487328e-01, 7.77512672e-01],\n",
              "       [9.61405144e-01, 3.85948556e-02],\n",
              "       [9.99756748e-01, 2.43251532e-04],\n",
              "       [9.76124441e-01, 2.38755590e-02],\n",
              "       [6.90917275e-01, 3.09082725e-01],\n",
              "       [7.14327623e-01, 2.85672377e-01],\n",
              "       [9.84814438e-01, 1.51855619e-02],\n",
              "       [9.76437583e-01, 2.35624173e-02],\n",
              "       [9.97015652e-01, 2.98434843e-03],\n",
              "       [9.99231759e-01, 7.68241360e-04],\n",
              "       [7.46295384e-01, 2.53704616e-01],\n",
              "       [5.24779781e-02, 9.47522022e-01],\n",
              "       [3.18086140e-01, 6.81913860e-01],\n",
              "       [8.63090863e-01, 1.36909137e-01],\n",
              "       [7.22362836e-01, 2.77637164e-01],\n",
              "       [9.99329819e-01, 6.70180963e-04],\n",
              "       [9.74125846e-01, 2.58741542e-02],\n",
              "       [9.00214203e-01, 9.97857965e-02],\n",
              "       [6.49243927e-01, 3.50756073e-01],\n",
              "       [3.82635115e-01, 6.17364885e-01],\n",
              "       [8.71202408e-01, 1.28797592e-01],\n",
              "       [9.21262518e-01, 7.87374819e-02],\n",
              "       [9.96181839e-01, 3.81816102e-03],\n",
              "       [9.51728918e-01, 4.82710823e-02],\n",
              "       [6.44820461e-01, 3.55179539e-01],\n",
              "       [9.73746055e-01, 2.62539447e-02],\n",
              "       [9.99606087e-01, 3.93913128e-04],\n",
              "       [9.98407232e-01, 1.59276783e-03],\n",
              "       [1.44946392e-01, 8.55053608e-01],\n",
              "       [9.99552977e-01, 4.47023408e-04],\n",
              "       [9.98459736e-01, 1.54026443e-03],\n",
              "       [9.94836503e-01, 5.16349665e-03],\n",
              "       [4.47441325e-02, 9.55255868e-01],\n",
              "       [9.82119310e-01, 1.78806903e-02],\n",
              "       [9.48023623e-02, 9.05197638e-01],\n",
              "       [3.81950857e-03, 9.96180491e-01],\n",
              "       [9.80293190e-01, 1.97068096e-02],\n",
              "       [2.37328896e-01, 7.62671104e-01],\n",
              "       [9.72913076e-01, 2.70869235e-02],\n",
              "       [9.73227361e-01, 2.67726393e-02],\n",
              "       [3.59393309e-02, 9.64060669e-01],\n",
              "       [7.77903310e-01, 2.22096690e-01],\n",
              "       [9.87003486e-01, 1.29965142e-02],\n",
              "       [9.90785996e-01, 9.21400374e-03],\n",
              "       [1.25000603e-01, 8.74999397e-01],\n",
              "       [9.96056264e-01, 3.94373583e-03],\n",
              "       [4.79974821e-01, 5.20025179e-01],\n",
              "       [2.55557581e-01, 7.44442419e-01],\n",
              "       [9.99678253e-01, 3.21746882e-04],\n",
              "       [9.96477298e-01, 3.52270231e-03],\n",
              "       [7.54178959e-01, 2.45821041e-01],\n",
              "       [2.73045035e-01, 7.26954965e-01],\n",
              "       [9.88844520e-01, 1.11554804e-02],\n",
              "       [3.56415610e-01, 6.43584390e-01],\n",
              "       [9.63318342e-01, 3.66816581e-02],\n",
              "       [7.73322066e-01, 2.26677934e-01],\n",
              "       [4.51249558e-02, 9.54875044e-01],\n",
              "       [7.35541933e-01, 2.64458067e-01],\n",
              "       [9.99040492e-01, 9.59507570e-04],\n",
              "       [2.04961946e-01, 7.95038054e-01],\n",
              "       [9.10241671e-01, 8.97583291e-02],\n",
              "       [9.95035743e-01, 4.96425667e-03],\n",
              "       [9.99669743e-01, 3.30256740e-04],\n",
              "       [9.42740306e-01, 5.72596938e-02],\n",
              "       [9.99530534e-01, 4.69465885e-04],\n",
              "       [4.09205918e-03, 9.95907941e-01],\n",
              "       [9.97384169e-01, 2.61583102e-03],\n",
              "       [6.27538019e-02, 9.37246198e-01],\n",
              "       [9.97635003e-01, 2.36499665e-03],\n",
              "       [3.49477573e-01, 6.50522427e-01],\n",
              "       [5.86885606e-01, 4.13114394e-01],\n",
              "       [1.69651978e-02, 9.83034802e-01],\n",
              "       [9.96363219e-01, 3.63678120e-03],\n",
              "       [9.92047961e-01, 7.95203922e-03],\n",
              "       [3.57963259e-01, 6.42036741e-01],\n",
              "       [6.46585683e-01, 3.53414317e-01],\n",
              "       [9.97678835e-01, 2.32116466e-03],\n",
              "       [9.36550238e-01, 6.34497621e-02],\n",
              "       [9.97330855e-01, 2.66914504e-03],\n",
              "       [9.99255268e-01, 7.44731930e-04],\n",
              "       [7.33457418e-03, 9.92665426e-01],\n",
              "       [9.91044768e-01, 8.95523241e-03],\n",
              "       [9.76995356e-01, 2.30046441e-02],\n",
              "       [9.96413161e-01, 3.58683856e-03],\n",
              "       [9.66596758e-01, 3.34032416e-02],\n",
              "       [9.30656641e-01, 6.93433587e-02],\n",
              "       [9.81243490e-01, 1.87565103e-02],\n",
              "       [9.96878629e-01, 3.12137113e-03],\n",
              "       [1.47653976e-01, 8.52346024e-01],\n",
              "       [9.99600032e-01, 3.99967685e-04],\n",
              "       [5.42150923e-01, 4.57849077e-01],\n",
              "       [7.08508950e-01, 2.91491050e-01],\n",
              "       [9.99108339e-01, 8.91660989e-04],\n",
              "       [9.97057003e-01, 2.94299660e-03],\n",
              "       [9.69805251e-01, 3.01947489e-02],\n",
              "       [2.26276921e-01, 7.73723079e-01],\n",
              "       [3.10989341e-02, 9.68901066e-01],\n",
              "       [9.87411412e-01, 1.25885882e-02],\n",
              "       [4.34736128e-01, 5.65263872e-01],\n",
              "       [9.42162903e-01, 5.78370967e-02],\n",
              "       [9.86640830e-01, 1.33591698e-02],\n",
              "       [1.72348240e-01, 8.27651760e-01],\n",
              "       [8.56195032e-01, 1.43804968e-01],\n",
              "       [1.40467668e-01, 8.59532332e-01],\n",
              "       [9.96383061e-01, 3.61693878e-03],\n",
              "       [9.96486562e-01, 3.51343777e-03],\n",
              "       [9.98713288e-01, 1.28671239e-03],\n",
              "       [9.87845161e-01, 1.21548395e-02],\n",
              "       [9.98413723e-01, 1.58627707e-03],\n",
              "       [9.97816562e-01, 2.18343773e-03],\n",
              "       [9.98549968e-01, 1.45003220e-03],\n",
              "       [9.99199720e-01, 8.00279579e-04],\n",
              "       [8.54136704e-01, 1.45863296e-01],\n",
              "       [9.93349685e-01, 6.65031536e-03],\n",
              "       [2.14251249e-02, 9.78574875e-01],\n",
              "       [9.31216218e-01, 6.87837815e-02],\n",
              "       [9.95422257e-01, 4.57774282e-03],\n",
              "       [9.99572258e-01, 4.27741587e-04],\n",
              "       [9.59133074e-01, 4.08669264e-02],\n",
              "       [6.61376699e-01, 3.38623301e-01],\n",
              "       [6.42674527e-01, 3.57325473e-01],\n",
              "       [9.26104526e-01, 7.38954740e-02],\n",
              "       [7.45524613e-01, 2.54475387e-01],\n",
              "       [1.93741632e-01, 8.06258368e-01],\n",
              "       [2.42499604e-01, 7.57500396e-01],\n",
              "       [9.52623287e-01, 4.73767131e-02],\n",
              "       [7.30193694e-01, 2.69806306e-01],\n",
              "       [2.75783937e-01, 7.24216063e-01],\n",
              "       [7.82551115e-01, 2.17448885e-01],\n",
              "       [9.06234499e-01, 9.37655014e-02],\n",
              "       [3.62969241e-02, 9.63703076e-01],\n",
              "       [4.65113744e-01, 5.34886256e-01],\n",
              "       [8.10570289e-02, 9.18942971e-01],\n",
              "       [9.99094580e-01, 9.05420439e-04],\n",
              "       [9.98923696e-01, 1.07630384e-03],\n",
              "       [9.77271638e-01, 2.27283624e-02],\n",
              "       [9.95800249e-01, 4.19975128e-03],\n",
              "       [9.94513537e-01, 5.48646311e-03],\n",
              "       [6.28761359e-02, 9.37123864e-01],\n",
              "       [9.89606852e-01, 1.03931485e-02],\n",
              "       [3.21736308e-01, 6.78263692e-01],\n",
              "       [9.97497138e-01, 2.50286222e-03],\n",
              "       [5.68237660e-02, 9.43176234e-01],\n",
              "       [9.99346851e-01, 6.53149317e-04],\n",
              "       [2.43375794e-01, 7.56624206e-01],\n",
              "       [9.31274129e-01, 6.87258706e-02],\n",
              "       [9.77995759e-01, 2.20042407e-02],\n",
              "       [3.24698158e-03, 9.96753018e-01],\n",
              "       [9.11983007e-01, 8.80169934e-02],\n",
              "       [4.32580313e-02, 9.56741969e-01],\n",
              "       [9.99220750e-01, 7.79249964e-04],\n",
              "       [7.48258001e-01, 2.51741999e-01],\n",
              "       [9.98551151e-01, 1.44884890e-03],\n",
              "       [1.72939344e-01, 8.27060656e-01],\n",
              "       [7.24193620e-03, 9.92758064e-01],\n",
              "       [9.98918098e-01, 1.08190209e-03],\n",
              "       [2.72577746e-03, 9.97274223e-01],\n",
              "       [9.62309520e-01, 3.76904799e-02],\n",
              "       [3.30050391e-01, 6.69949609e-01],\n",
              "       [9.96155782e-01, 3.84421823e-03],\n",
              "       [9.14750267e-01, 8.52497329e-02],\n",
              "       [9.88817233e-01, 1.11827669e-02],\n",
              "       [9.87977189e-01, 1.20228108e-02],\n",
              "       [9.99175181e-01, 8.24819466e-04],\n",
              "       [5.62868607e-01, 4.37131393e-01],\n",
              "       [9.77885449e-01, 2.21145509e-02],\n",
              "       [9.36421681e-01, 6.35783192e-02],\n",
              "       [6.89702358e-01, 3.10297642e-01],\n",
              "       [2.27065032e-02, 9.77293497e-01],\n",
              "       [2.55530039e-01, 7.44469961e-01],\n",
              "       [9.96530741e-01, 3.46925912e-03],\n",
              "       [2.02595078e-01, 7.97404922e-01],\n",
              "       [9.35698994e-01, 6.43010055e-02],\n",
              "       [8.98005639e-01, 1.01994361e-01],\n",
              "       [8.73372419e-02, 9.12662758e-01],\n",
              "       [9.63471545e-01, 3.65284550e-02],\n",
              "       [9.98029289e-01, 1.97071083e-03],\n",
              "       [9.97925643e-01, 2.07435675e-03],\n",
              "       [9.96208924e-01, 3.79107648e-03],\n",
              "       [7.13648695e-01, 2.86351305e-01],\n",
              "       [4.11801549e-01, 5.88198451e-01],\n",
              "       [9.93445023e-01, 6.55497673e-03],\n",
              "       [8.56127011e-01, 1.43872989e-01],\n",
              "       [9.60572315e-01, 3.94276851e-02],\n",
              "       [2.17163462e-01, 7.82836538e-01],\n",
              "       [7.10991642e-02, 9.28900836e-01],\n",
              "       [1.76836724e-01, 8.23163276e-01],\n",
              "       [7.39647774e-02, 9.26035223e-01],\n",
              "       [9.97262677e-01, 2.73732307e-03],\n",
              "       [9.99266523e-01, 7.33476647e-04],\n",
              "       [9.99519182e-01, 4.80817637e-04],\n",
              "       [9.89748062e-01, 1.02519382e-02],\n",
              "       [5.94015098e-01, 4.05984902e-01],\n",
              "       [9.90892964e-01, 9.10703557e-03],\n",
              "       [9.95738426e-01, 4.26157432e-03],\n",
              "       [8.93529596e-01, 1.06470404e-01],\n",
              "       [7.19410710e-03, 9.92805893e-01],\n",
              "       [9.63264244e-01, 3.67357560e-02],\n",
              "       [4.47534586e-01, 5.52465414e-01],\n",
              "       [8.09511182e-01, 1.90488818e-01],\n",
              "       [9.89268411e-01, 1.07315893e-02],\n",
              "       [1.72327186e-02, 9.82767281e-01],\n",
              "       [9.76490574e-01, 2.35094263e-02],\n",
              "       [9.72072950e-01, 2.79270497e-02],\n",
              "       [2.37470189e-01, 7.62529811e-01],\n",
              "       [2.19953771e-01, 7.80046229e-01],\n",
              "       [3.71484458e-01, 6.28515542e-01],\n",
              "       [9.56898491e-01, 4.31015090e-02],\n",
              "       [5.47295231e-01, 4.52704769e-01],\n",
              "       [7.24848628e-01, 2.75151372e-01],\n",
              "       [8.99385693e-01, 1.00614307e-01],\n",
              "       [9.09209050e-01, 9.07909496e-02],\n",
              "       [1.36602478e-02, 9.86339752e-01],\n",
              "       [9.99129094e-01, 8.70906055e-04],\n",
              "       [5.10227322e-01, 4.89772678e-01],\n",
              "       [7.12414129e-01, 2.87585871e-01],\n",
              "       [9.88441766e-01, 1.15582344e-02],\n",
              "       [4.98995428e-01, 5.01004572e-01],\n",
              "       [9.66786566e-01, 3.32134340e-02],\n",
              "       [9.98698859e-01, 1.30114146e-03],\n",
              "       [9.77902303e-01, 2.20976970e-02],\n",
              "       [9.99102458e-01, 8.97542475e-04],\n",
              "       [1.15452657e-02, 9.88454734e-01],\n",
              "       [1.19202463e-01, 8.80797537e-01],\n",
              "       [4.80906762e-01, 5.19093238e-01],\n",
              "       [9.75022308e-01, 2.49776921e-02],\n",
              "       [9.97997888e-01, 2.00211182e-03],\n",
              "       [9.89371659e-01, 1.06283412e-02],\n",
              "       [1.71917000e-01, 8.28083000e-01],\n",
              "       [9.94410515e-01, 5.58948496e-03],\n",
              "       [9.98191674e-01, 1.80832622e-03],\n",
              "       [1.04241856e-02, 9.89575814e-01],\n",
              "       [2.97096814e-01, 7.02903186e-01],\n",
              "       [9.98878024e-01, 1.12197596e-03],\n",
              "       [9.28066171e-01, 7.19338293e-02],\n",
              "       [9.97955693e-01, 2.04430657e-03],\n",
              "       [9.99711930e-01, 2.88069860e-04],\n",
              "       [9.94976217e-01, 5.02378285e-03],\n",
              "       [2.14759909e-02, 9.78524009e-01],\n",
              "       [2.60127149e-01, 7.39872851e-01],\n",
              "       [9.94441524e-01, 5.55847557e-03],\n",
              "       [9.98604731e-01, 1.39526873e-03],\n",
              "       [7.89624508e-01, 2.10375492e-01],\n",
              "       [7.58131678e-01, 2.41868322e-01],\n",
              "       [9.88724271e-01, 1.12757286e-02],\n",
              "       [2.11153996e-01, 7.88846004e-01],\n",
              "       [3.39478733e-01, 6.60521267e-01],\n",
              "       [9.97267832e-01, 2.73216801e-03],\n",
              "       [7.58149548e-01, 2.41850452e-01],\n",
              "       [9.82129148e-01, 1.78708523e-02],\n",
              "       [9.14612249e-01, 8.53877511e-02],\n",
              "       [9.98072468e-01, 1.92753166e-03],\n",
              "       [9.93555271e-01, 6.44472872e-03],\n",
              "       [9.93456043e-01, 6.54395750e-03],\n",
              "       [9.08248170e-01, 9.17518298e-02],\n",
              "       [9.85900264e-01, 1.40997356e-02],\n",
              "       [9.95425669e-01, 4.57433133e-03],\n",
              "       [9.96858965e-01, 3.14103517e-03],\n",
              "       [6.14415290e-01, 3.85584710e-01],\n",
              "       [9.39798546e-01, 6.02014538e-02],\n",
              "       [9.99600223e-01, 3.99776798e-04],\n",
              "       [9.89191375e-01, 1.08086246e-02],\n",
              "       [9.97430860e-01, 2.56914010e-03],\n",
              "       [9.69475739e-01, 3.05242611e-02],\n",
              "       [9.96619463e-01, 3.38053681e-03],\n",
              "       [9.96622602e-01, 3.37739783e-03],\n",
              "       [9.36648292e-01, 6.33517081e-02],\n",
              "       [9.98777890e-01, 1.22211045e-03],\n",
              "       [9.87193511e-01, 1.28064888e-02],\n",
              "       [9.98339127e-01, 1.66087297e-03],\n",
              "       [7.83605166e-01, 2.16394834e-01],\n",
              "       [9.94754129e-01, 5.24587060e-03],\n",
              "       [5.90540678e-01, 4.09459322e-01],\n",
              "       [9.01398410e-01, 9.86015902e-02],\n",
              "       [9.88601801e-01, 1.13981994e-02],\n",
              "       [5.60846356e-01, 4.39153644e-01],\n",
              "       [9.90252110e-01, 9.74789015e-03],\n",
              "       [9.33374162e-01, 6.66258380e-02],\n",
              "       [9.90237491e-01, 9.76250862e-03],\n",
              "       [1.77022658e-02, 9.82297734e-01],\n",
              "       [9.98051808e-01, 1.94819180e-03],\n",
              "       [9.98332333e-01, 1.66766679e-03],\n",
              "       [8.24478810e-01, 1.75521190e-01],\n",
              "       [4.21512820e-01, 5.78487180e-01],\n",
              "       [8.60764687e-01, 1.39235313e-01],\n",
              "       [5.99307883e-01, 4.00692117e-01],\n",
              "       [9.59919036e-01, 4.00809640e-02],\n",
              "       [9.99447124e-01, 5.52875894e-04],\n",
              "       [9.65201158e-01, 3.47988422e-02]])"
            ]
          },
          "metadata": {},
          "execution_count": 53
        }
      ]
    },
    {
      "cell_type": "code",
      "source": [
        "roc_auc_score(y_val,best_model.predict_proba(X_val_poly_pca)[:,1])"
      ],
      "metadata": {
        "colab": {
          "base_uri": "https://localhost:8080/"
        },
        "id": "hlZq3oQKErX5",
        "outputId": "2acc4ad9-34fe-40e3-f2ac-b3851295c593"
      },
      "execution_count": null,
      "outputs": [
        {
          "output_type": "execute_result",
          "data": {
            "text/plain": [
              "0.8327306596537365"
            ]
          },
          "metadata": {},
          "execution_count": 52
        }
      ]
    },
    {
      "cell_type": "markdown",
      "source": [
        "#Prediction"
      ],
      "metadata": {
        "id": "wCSFXJm7H7ZQ"
      }
    },
    {
      "cell_type": "code",
      "source": [
        "prediction_1 = best_model.predict(X_test_1_pca)"
      ],
      "metadata": {
        "id": "Fog4gMbxGyce"
      },
      "execution_count": 73,
      "outputs": []
    },
    {
      "cell_type": "code",
      "source": [
        "prediction_2 = best_model.predict(X_test_2_pca)"
      ],
      "metadata": {
        "id": "aeFuSKLrH6wm"
      },
      "execution_count": 74,
      "outputs": []
    },
    {
      "cell_type": "code",
      "source": [
        "prediction_3 = best_model.predict(X_test_3_pca)"
      ],
      "metadata": {
        "id": "Kz61QbdWGt1Y"
      },
      "execution_count": 75,
      "outputs": []
    },
    {
      "cell_type": "code",
      "source": [
        "prediction_4 = best_model.predict(X_test_4_pca)"
      ],
      "metadata": {
        "id": "dlDphTcCIwMg"
      },
      "execution_count": 76,
      "outputs": []
    },
    {
      "cell_type": "code",
      "source": [
        "prediction_5 = best_model.predict(X_test_5_pca)"
      ],
      "metadata": {
        "id": "cmZpj3S4IwqL"
      },
      "execution_count": 77,
      "outputs": []
    },
    {
      "cell_type": "code",
      "source": [
        "prediction_6 = best_model.predict(X_test_6_pca)"
      ],
      "metadata": {
        "id": "VoMyhPEeI1dO"
      },
      "execution_count": 78,
      "outputs": []
    },
    {
      "cell_type": "code",
      "source": [
        "predictions = np.hstack((prediction_1, prediction_2, prediction_3, prediction_4, prediction_5, prediction_6))"
      ],
      "metadata": {
        "id": "z4XV8T85JA1O"
      },
      "execution_count": 80,
      "outputs": []
    },
    {
      "cell_type": "code",
      "source": [
        "predictions.shape"
      ],
      "metadata": {
        "colab": {
          "base_uri": "https://localhost:8080/"
        },
        "id": "PuFuLwoMJY5a",
        "outputId": "ec323186-24a4-4cde-e31a-696962c3e582"
      },
      "execution_count": 81,
      "outputs": [
        {
          "output_type": "execute_result",
          "data": {
            "text/plain": [
              "(550000,)"
            ]
          },
          "metadata": {},
          "execution_count": 81
        }
      ]
    },
    {
      "cell_type": "code",
      "source": [
        "pp_1 = best_model.predict_proba(X_test_1_pca)[:,1]\n",
        "pp_2 = best_model.predict_proba(X_test_2_pca)[:,1]"
      ],
      "metadata": {
        "id": "FEjgO4X3NSOz"
      },
      "execution_count": 82,
      "outputs": []
    },
    {
      "cell_type": "code",
      "source": [
        "pp_3 = best_model.predict_proba(X_test_3_pca)[:,1]\n",
        "pp_4 = best_model.predict_proba(X_test_4_pca)[:,1]"
      ],
      "metadata": {
        "id": "ZBb5PmH4P4YG"
      },
      "execution_count": 83,
      "outputs": []
    },
    {
      "cell_type": "code",
      "source": [
        "pp_5 = best_model.predict_proba(X_test_5_pca)[:,1]\n",
        "pp_6 = best_model.predict_proba(X_test_6_pca)[:,1]"
      ],
      "metadata": {
        "id": "E8X9JMm4P8HI"
      },
      "execution_count": 84,
      "outputs": []
    },
    {
      "cell_type": "code",
      "source": [
        "pp = np.hstack((pp_1, pp_2, pp_3, pp_4, pp_5, pp_6))"
      ],
      "metadata": {
        "id": "SGSfxtonP_3z"
      },
      "execution_count": 85,
      "outputs": []
    },
    {
      "cell_type": "code",
      "source": [
        "pp.shape"
      ],
      "metadata": {
        "colab": {
          "base_uri": "https://localhost:8080/"
        },
        "id": "3pXi8fdbUQjN",
        "outputId": "08a48a25-e899-4c6f-8c7a-c71e2929812d"
      },
      "execution_count": 86,
      "outputs": [
        {
          "output_type": "execute_result",
          "data": {
            "text/plain": [
              "(550000,)"
            ]
          },
          "metadata": {},
          "execution_count": 86
        }
      ]
    },
    {
      "cell_type": "markdown",
      "source": [
        "# Submission"
      ],
      "metadata": {
        "id": "cqFdl9R-KXgT"
      }
    },
    {
      "cell_type": "code",
      "source": [
        "sub = pd.read_csv('./random_submission.zip')"
      ],
      "metadata": {
        "id": "E3VEYSvSJtp9"
      },
      "execution_count": 46,
      "outputs": []
    },
    {
      "cell_type": "code",
      "source": [
        "sub"
      ],
      "metadata": {
        "colab": {
          "base_uri": "https://localhost:8080/",
          "height": 424
        },
        "id": "kRcYv55xK1Wk",
        "outputId": "c65bfcee-e4ea-4390-f794-91e6e8352588"
      },
      "execution_count": 87,
      "outputs": [
        {
          "output_type": "execute_result",
          "data": {
            "text/plain": [
              "        EventId  RankOrder Class\n",
              "0        350000     416957     b\n",
              "1        350001      89624     b\n",
              "2        350002     519845     b\n",
              "3        350003     510885     s\n",
              "4        350004     455944     s\n",
              "...         ...        ...   ...\n",
              "549995   899995      46701     s\n",
              "549996   899996     323731     s\n",
              "549997   899997     357749     s\n",
              "549998   899998     486844     b\n",
              "549999   899999     254659     b\n",
              "\n",
              "[550000 rows x 3 columns]"
            ],
            "text/html": [
              "\n",
              "  <div id=\"df-2b07987f-31a1-4d82-be0b-13dba683a1b6\">\n",
              "    <div class=\"colab-df-container\">\n",
              "      <div>\n",
              "<style scoped>\n",
              "    .dataframe tbody tr th:only-of-type {\n",
              "        vertical-align: middle;\n",
              "    }\n",
              "\n",
              "    .dataframe tbody tr th {\n",
              "        vertical-align: top;\n",
              "    }\n",
              "\n",
              "    .dataframe thead th {\n",
              "        text-align: right;\n",
              "    }\n",
              "</style>\n",
              "<table border=\"1\" class=\"dataframe\">\n",
              "  <thead>\n",
              "    <tr style=\"text-align: right;\">\n",
              "      <th></th>\n",
              "      <th>EventId</th>\n",
              "      <th>RankOrder</th>\n",
              "      <th>Class</th>\n",
              "    </tr>\n",
              "  </thead>\n",
              "  <tbody>\n",
              "    <tr>\n",
              "      <th>0</th>\n",
              "      <td>350000</td>\n",
              "      <td>416957</td>\n",
              "      <td>b</td>\n",
              "    </tr>\n",
              "    <tr>\n",
              "      <th>1</th>\n",
              "      <td>350001</td>\n",
              "      <td>89624</td>\n",
              "      <td>b</td>\n",
              "    </tr>\n",
              "    <tr>\n",
              "      <th>2</th>\n",
              "      <td>350002</td>\n",
              "      <td>519845</td>\n",
              "      <td>b</td>\n",
              "    </tr>\n",
              "    <tr>\n",
              "      <th>3</th>\n",
              "      <td>350003</td>\n",
              "      <td>510885</td>\n",
              "      <td>s</td>\n",
              "    </tr>\n",
              "    <tr>\n",
              "      <th>4</th>\n",
              "      <td>350004</td>\n",
              "      <td>455944</td>\n",
              "      <td>s</td>\n",
              "    </tr>\n",
              "    <tr>\n",
              "      <th>...</th>\n",
              "      <td>...</td>\n",
              "      <td>...</td>\n",
              "      <td>...</td>\n",
              "    </tr>\n",
              "    <tr>\n",
              "      <th>549995</th>\n",
              "      <td>899995</td>\n",
              "      <td>46701</td>\n",
              "      <td>s</td>\n",
              "    </tr>\n",
              "    <tr>\n",
              "      <th>549996</th>\n",
              "      <td>899996</td>\n",
              "      <td>323731</td>\n",
              "      <td>s</td>\n",
              "    </tr>\n",
              "    <tr>\n",
              "      <th>549997</th>\n",
              "      <td>899997</td>\n",
              "      <td>357749</td>\n",
              "      <td>s</td>\n",
              "    </tr>\n",
              "    <tr>\n",
              "      <th>549998</th>\n",
              "      <td>899998</td>\n",
              "      <td>486844</td>\n",
              "      <td>b</td>\n",
              "    </tr>\n",
              "    <tr>\n",
              "      <th>549999</th>\n",
              "      <td>899999</td>\n",
              "      <td>254659</td>\n",
              "      <td>b</td>\n",
              "    </tr>\n",
              "  </tbody>\n",
              "</table>\n",
              "<p>550000 rows × 3 columns</p>\n",
              "</div>\n",
              "      <button class=\"colab-df-convert\" onclick=\"convertToInteractive('df-2b07987f-31a1-4d82-be0b-13dba683a1b6')\"\n",
              "              title=\"Convert this dataframe to an interactive table.\"\n",
              "              style=\"display:none;\">\n",
              "        \n",
              "  <svg xmlns=\"http://www.w3.org/2000/svg\" height=\"24px\"viewBox=\"0 0 24 24\"\n",
              "       width=\"24px\">\n",
              "    <path d=\"M0 0h24v24H0V0z\" fill=\"none\"/>\n",
              "    <path d=\"M18.56 5.44l.94 2.06.94-2.06 2.06-.94-2.06-.94-.94-2.06-.94 2.06-2.06.94zm-11 1L8.5 8.5l.94-2.06 2.06-.94-2.06-.94L8.5 2.5l-.94 2.06-2.06.94zm10 10l.94 2.06.94-2.06 2.06-.94-2.06-.94-.94-2.06-.94 2.06-2.06.94z\"/><path d=\"M17.41 7.96l-1.37-1.37c-.4-.4-.92-.59-1.43-.59-.52 0-1.04.2-1.43.59L10.3 9.45l-7.72 7.72c-.78.78-.78 2.05 0 2.83L4 21.41c.39.39.9.59 1.41.59.51 0 1.02-.2 1.41-.59l7.78-7.78 2.81-2.81c.8-.78.8-2.07 0-2.86zM5.41 20L4 18.59l7.72-7.72 1.47 1.35L5.41 20z\"/>\n",
              "  </svg>\n",
              "      </button>\n",
              "      \n",
              "  <style>\n",
              "    .colab-df-container {\n",
              "      display:flex;\n",
              "      flex-wrap:wrap;\n",
              "      gap: 12px;\n",
              "    }\n",
              "\n",
              "    .colab-df-convert {\n",
              "      background-color: #E8F0FE;\n",
              "      border: none;\n",
              "      border-radius: 50%;\n",
              "      cursor: pointer;\n",
              "      display: none;\n",
              "      fill: #1967D2;\n",
              "      height: 32px;\n",
              "      padding: 0 0 0 0;\n",
              "      width: 32px;\n",
              "    }\n",
              "\n",
              "    .colab-df-convert:hover {\n",
              "      background-color: #E2EBFA;\n",
              "      box-shadow: 0px 1px 2px rgba(60, 64, 67, 0.3), 0px 1px 3px 1px rgba(60, 64, 67, 0.15);\n",
              "      fill: #174EA6;\n",
              "    }\n",
              "\n",
              "    [theme=dark] .colab-df-convert {\n",
              "      background-color: #3B4455;\n",
              "      fill: #D2E3FC;\n",
              "    }\n",
              "\n",
              "    [theme=dark] .colab-df-convert:hover {\n",
              "      background-color: #434B5C;\n",
              "      box-shadow: 0px 1px 3px 1px rgba(0, 0, 0, 0.15);\n",
              "      filter: drop-shadow(0px 1px 2px rgba(0, 0, 0, 0.3));\n",
              "      fill: #FFFFFF;\n",
              "    }\n",
              "  </style>\n",
              "\n",
              "      <script>\n",
              "        const buttonEl =\n",
              "          document.querySelector('#df-2b07987f-31a1-4d82-be0b-13dba683a1b6 button.colab-df-convert');\n",
              "        buttonEl.style.display =\n",
              "          google.colab.kernel.accessAllowed ? 'block' : 'none';\n",
              "\n",
              "        async function convertToInteractive(key) {\n",
              "          const element = document.querySelector('#df-2b07987f-31a1-4d82-be0b-13dba683a1b6');\n",
              "          const dataTable =\n",
              "            await google.colab.kernel.invokeFunction('convertToInteractive',\n",
              "                                                     [key], {});\n",
              "          if (!dataTable) return;\n",
              "\n",
              "          const docLinkHtml = 'Like what you see? Visit the ' +\n",
              "            '<a target=\"_blank\" href=https://colab.research.google.com/notebooks/data_table.ipynb>data table notebook</a>'\n",
              "            + ' to learn more about interactive tables.';\n",
              "          element.innerHTML = '';\n",
              "          dataTable['output_type'] = 'display_data';\n",
              "          await google.colab.output.renderOutput(dataTable, element);\n",
              "          const docLink = document.createElement('div');\n",
              "          docLink.innerHTML = docLinkHtml;\n",
              "          element.appendChild(docLink);\n",
              "        }\n",
              "      </script>\n",
              "    </div>\n",
              "  </div>\n",
              "  "
            ]
          },
          "metadata": {},
          "execution_count": 87
        }
      ]
    },
    {
      "cell_type": "code",
      "source": [
        "np.asarray([0.9,0.6,0.7,1,0,0.3]).argsort().argsort()+1 #This can be used to make rank order"
      ],
      "metadata": {
        "colab": {
          "base_uri": "https://localhost:8080/"
        },
        "id": "U1wmo1ZgL0Jq",
        "outputId": "cd1fe8ea-0a13-4712-aebd-f55f8b00ecb4"
      },
      "execution_count": 48,
      "outputs": [
        {
          "output_type": "execute_result",
          "data": {
            "text/plain": [
              "array([5, 3, 4, 6, 1, 2])"
            ]
          },
          "metadata": {},
          "execution_count": 48
        }
      ]
    },
    {
      "cell_type": "markdown",
      "source": [
        "##How does argsort work?"
      ],
      "metadata": {
        "id": "luLi8gbo1bhE"
      }
    },
    {
      "cell_type": "code",
      "source": [
        "np.asarray([0.9,0.6,0.7,1,0,0.3]).argsort() #Returns the indices that would sort the array"
      ],
      "metadata": {
        "colab": {
          "base_uri": "https://localhost:8080/"
        },
        "id": "8B3FG_ht1e0X",
        "outputId": "83805018-fe79-4666-bc52-a3b5edd5f6ab"
      },
      "execution_count": 88,
      "outputs": [
        {
          "output_type": "execute_result",
          "data": {
            "text/plain": [
              "array([4, 5, 1, 2, 0, 3])"
            ]
          },
          "metadata": {},
          "execution_count": 88
        }
      ]
    },
    {
      "cell_type": "code",
      "source": [
        "np.asarray([0.9,0.6,0.7,1,0,0.3]).argsort().argsort() "
      ],
      "metadata": {
        "colab": {
          "base_uri": "https://localhost:8080/"
        },
        "id": "lJDoHUzc1ojl",
        "outputId": "94e8917c-a08d-4165-9401-fac31fe8cf8f"
      },
      "execution_count": 90,
      "outputs": [
        {
          "output_type": "execute_result",
          "data": {
            "text/plain": [
              "array([4, 2, 3, 5, 0, 1])"
            ]
          },
          "metadata": {},
          "execution_count": 90
        }
      ]
    },
    {
      "cell_type": "markdown",
      "source": [
        "##Back to predictions"
      ],
      "metadata": {
        "id": "F7T3YMpy1rle"
      }
    },
    {
      "cell_type": "code",
      "source": [
        "test_predict = pd.Series(predictions)"
      ],
      "metadata": {
        "id": "gvAFAhvTPBiq"
      },
      "execution_count": 91,
      "outputs": []
    },
    {
      "cell_type": "code",
      "source": [
        "test_predict"
      ],
      "metadata": {
        "colab": {
          "base_uri": "https://localhost:8080/"
        },
        "id": "P1xzyxXPRaCF",
        "outputId": "d7a2bf9c-38ae-4175-e675-f0fc2fe584a1"
      },
      "execution_count": 92,
      "outputs": [
        {
          "output_type": "execute_result",
          "data": {
            "text/plain": [
              "0         0\n",
              "1         0\n",
              "2         1\n",
              "3         1\n",
              "4         0\n",
              "         ..\n",
              "549995    0\n",
              "549996    1\n",
              "549997    0\n",
              "549998    1\n",
              "549999    0\n",
              "Length: 550000, dtype: int64"
            ]
          },
          "metadata": {},
          "execution_count": 92
        }
      ]
    },
    {
      "cell_type": "code",
      "source": [
        "test_predict = pd.DataFrame({\"EventId\":sub['EventId'],\"RankOrder\":sub['RankOrder'],\"Class\":test_predict})\n",
        "test_predict"
      ],
      "metadata": {
        "colab": {
          "base_uri": "https://localhost:8080/",
          "height": 424
        },
        "id": "UvU4MitPRdEV",
        "outputId": "d84d483d-dee8-4c8e-8433-55f0e934f25c"
      },
      "execution_count": 93,
      "outputs": [
        {
          "output_type": "execute_result",
          "data": {
            "text/plain": [
              "        EventId  RankOrder  Class\n",
              "0        350000     416957      0\n",
              "1        350001      89624      0\n",
              "2        350002     519845      1\n",
              "3        350003     510885      1\n",
              "4        350004     455944      0\n",
              "...         ...        ...    ...\n",
              "549995   899995      46701      0\n",
              "549996   899996     323731      1\n",
              "549997   899997     357749      0\n",
              "549998   899998     486844      1\n",
              "549999   899999     254659      0\n",
              "\n",
              "[550000 rows x 3 columns]"
            ],
            "text/html": [
              "\n",
              "  <div id=\"df-2d288e68-2601-455b-9cb0-842a16ba4934\">\n",
              "    <div class=\"colab-df-container\">\n",
              "      <div>\n",
              "<style scoped>\n",
              "    .dataframe tbody tr th:only-of-type {\n",
              "        vertical-align: middle;\n",
              "    }\n",
              "\n",
              "    .dataframe tbody tr th {\n",
              "        vertical-align: top;\n",
              "    }\n",
              "\n",
              "    .dataframe thead th {\n",
              "        text-align: right;\n",
              "    }\n",
              "</style>\n",
              "<table border=\"1\" class=\"dataframe\">\n",
              "  <thead>\n",
              "    <tr style=\"text-align: right;\">\n",
              "      <th></th>\n",
              "      <th>EventId</th>\n",
              "      <th>RankOrder</th>\n",
              "      <th>Class</th>\n",
              "    </tr>\n",
              "  </thead>\n",
              "  <tbody>\n",
              "    <tr>\n",
              "      <th>0</th>\n",
              "      <td>350000</td>\n",
              "      <td>416957</td>\n",
              "      <td>0</td>\n",
              "    </tr>\n",
              "    <tr>\n",
              "      <th>1</th>\n",
              "      <td>350001</td>\n",
              "      <td>89624</td>\n",
              "      <td>0</td>\n",
              "    </tr>\n",
              "    <tr>\n",
              "      <th>2</th>\n",
              "      <td>350002</td>\n",
              "      <td>519845</td>\n",
              "      <td>1</td>\n",
              "    </tr>\n",
              "    <tr>\n",
              "      <th>3</th>\n",
              "      <td>350003</td>\n",
              "      <td>510885</td>\n",
              "      <td>1</td>\n",
              "    </tr>\n",
              "    <tr>\n",
              "      <th>4</th>\n",
              "      <td>350004</td>\n",
              "      <td>455944</td>\n",
              "      <td>0</td>\n",
              "    </tr>\n",
              "    <tr>\n",
              "      <th>...</th>\n",
              "      <td>...</td>\n",
              "      <td>...</td>\n",
              "      <td>...</td>\n",
              "    </tr>\n",
              "    <tr>\n",
              "      <th>549995</th>\n",
              "      <td>899995</td>\n",
              "      <td>46701</td>\n",
              "      <td>0</td>\n",
              "    </tr>\n",
              "    <tr>\n",
              "      <th>549996</th>\n",
              "      <td>899996</td>\n",
              "      <td>323731</td>\n",
              "      <td>1</td>\n",
              "    </tr>\n",
              "    <tr>\n",
              "      <th>549997</th>\n",
              "      <td>899997</td>\n",
              "      <td>357749</td>\n",
              "      <td>0</td>\n",
              "    </tr>\n",
              "    <tr>\n",
              "      <th>549998</th>\n",
              "      <td>899998</td>\n",
              "      <td>486844</td>\n",
              "      <td>1</td>\n",
              "    </tr>\n",
              "    <tr>\n",
              "      <th>549999</th>\n",
              "      <td>899999</td>\n",
              "      <td>254659</td>\n",
              "      <td>0</td>\n",
              "    </tr>\n",
              "  </tbody>\n",
              "</table>\n",
              "<p>550000 rows × 3 columns</p>\n",
              "</div>\n",
              "      <button class=\"colab-df-convert\" onclick=\"convertToInteractive('df-2d288e68-2601-455b-9cb0-842a16ba4934')\"\n",
              "              title=\"Convert this dataframe to an interactive table.\"\n",
              "              style=\"display:none;\">\n",
              "        \n",
              "  <svg xmlns=\"http://www.w3.org/2000/svg\" height=\"24px\"viewBox=\"0 0 24 24\"\n",
              "       width=\"24px\">\n",
              "    <path d=\"M0 0h24v24H0V0z\" fill=\"none\"/>\n",
              "    <path d=\"M18.56 5.44l.94 2.06.94-2.06 2.06-.94-2.06-.94-.94-2.06-.94 2.06-2.06.94zm-11 1L8.5 8.5l.94-2.06 2.06-.94-2.06-.94L8.5 2.5l-.94 2.06-2.06.94zm10 10l.94 2.06.94-2.06 2.06-.94-2.06-.94-.94-2.06-.94 2.06-2.06.94z\"/><path d=\"M17.41 7.96l-1.37-1.37c-.4-.4-.92-.59-1.43-.59-.52 0-1.04.2-1.43.59L10.3 9.45l-7.72 7.72c-.78.78-.78 2.05 0 2.83L4 21.41c.39.39.9.59 1.41.59.51 0 1.02-.2 1.41-.59l7.78-7.78 2.81-2.81c.8-.78.8-2.07 0-2.86zM5.41 20L4 18.59l7.72-7.72 1.47 1.35L5.41 20z\"/>\n",
              "  </svg>\n",
              "      </button>\n",
              "      \n",
              "  <style>\n",
              "    .colab-df-container {\n",
              "      display:flex;\n",
              "      flex-wrap:wrap;\n",
              "      gap: 12px;\n",
              "    }\n",
              "\n",
              "    .colab-df-convert {\n",
              "      background-color: #E8F0FE;\n",
              "      border: none;\n",
              "      border-radius: 50%;\n",
              "      cursor: pointer;\n",
              "      display: none;\n",
              "      fill: #1967D2;\n",
              "      height: 32px;\n",
              "      padding: 0 0 0 0;\n",
              "      width: 32px;\n",
              "    }\n",
              "\n",
              "    .colab-df-convert:hover {\n",
              "      background-color: #E2EBFA;\n",
              "      box-shadow: 0px 1px 2px rgba(60, 64, 67, 0.3), 0px 1px 3px 1px rgba(60, 64, 67, 0.15);\n",
              "      fill: #174EA6;\n",
              "    }\n",
              "\n",
              "    [theme=dark] .colab-df-convert {\n",
              "      background-color: #3B4455;\n",
              "      fill: #D2E3FC;\n",
              "    }\n",
              "\n",
              "    [theme=dark] .colab-df-convert:hover {\n",
              "      background-color: #434B5C;\n",
              "      box-shadow: 0px 1px 3px 1px rgba(0, 0, 0, 0.15);\n",
              "      filter: drop-shadow(0px 1px 2px rgba(0, 0, 0, 0.3));\n",
              "      fill: #FFFFFF;\n",
              "    }\n",
              "  </style>\n",
              "\n",
              "      <script>\n",
              "        const buttonEl =\n",
              "          document.querySelector('#df-2d288e68-2601-455b-9cb0-842a16ba4934 button.colab-df-convert');\n",
              "        buttonEl.style.display =\n",
              "          google.colab.kernel.accessAllowed ? 'block' : 'none';\n",
              "\n",
              "        async function convertToInteractive(key) {\n",
              "          const element = document.querySelector('#df-2d288e68-2601-455b-9cb0-842a16ba4934');\n",
              "          const dataTable =\n",
              "            await google.colab.kernel.invokeFunction('convertToInteractive',\n",
              "                                                     [key], {});\n",
              "          if (!dataTable) return;\n",
              "\n",
              "          const docLinkHtml = 'Like what you see? Visit the ' +\n",
              "            '<a target=\"_blank\" href=https://colab.research.google.com/notebooks/data_table.ipynb>data table notebook</a>'\n",
              "            + ' to learn more about interactive tables.';\n",
              "          element.innerHTML = '';\n",
              "          dataTable['output_type'] = 'display_data';\n",
              "          await google.colab.output.renderOutput(dataTable, element);\n",
              "          const docLink = document.createElement('div');\n",
              "          docLink.innerHTML = docLinkHtml;\n",
              "          element.appendChild(docLink);\n",
              "        }\n",
              "      </script>\n",
              "    </div>\n",
              "  </div>\n",
              "  "
            ]
          },
          "metadata": {},
          "execution_count": 93
        }
      ]
    },
    {
      "cell_type": "code",
      "source": [
        "test_predict = test_predict.replace(1,'s')\n",
        "test_predict = test_predict.replace(0,'b')\n",
        "test_predict"
      ],
      "metadata": {
        "colab": {
          "base_uri": "https://localhost:8080/",
          "height": 424
        },
        "id": "AiPicUIYRgh1",
        "outputId": "a7b6dd8a-39f1-414e-a955-5796722ffe48"
      },
      "execution_count": 94,
      "outputs": [
        {
          "output_type": "execute_result",
          "data": {
            "text/plain": [
              "        EventId RankOrder Class\n",
              "0        350000    416957     b\n",
              "1        350001     89624     b\n",
              "2        350002    519845     s\n",
              "3        350003    510885     s\n",
              "4        350004    455944     b\n",
              "...         ...       ...   ...\n",
              "549995   899995     46701     b\n",
              "549996   899996    323731     s\n",
              "549997   899997    357749     b\n",
              "549998   899998    486844     s\n",
              "549999   899999    254659     b\n",
              "\n",
              "[550000 rows x 3 columns]"
            ],
            "text/html": [
              "\n",
              "  <div id=\"df-9223711e-3998-491f-8923-7627b15daf10\">\n",
              "    <div class=\"colab-df-container\">\n",
              "      <div>\n",
              "<style scoped>\n",
              "    .dataframe tbody tr th:only-of-type {\n",
              "        vertical-align: middle;\n",
              "    }\n",
              "\n",
              "    .dataframe tbody tr th {\n",
              "        vertical-align: top;\n",
              "    }\n",
              "\n",
              "    .dataframe thead th {\n",
              "        text-align: right;\n",
              "    }\n",
              "</style>\n",
              "<table border=\"1\" class=\"dataframe\">\n",
              "  <thead>\n",
              "    <tr style=\"text-align: right;\">\n",
              "      <th></th>\n",
              "      <th>EventId</th>\n",
              "      <th>RankOrder</th>\n",
              "      <th>Class</th>\n",
              "    </tr>\n",
              "  </thead>\n",
              "  <tbody>\n",
              "    <tr>\n",
              "      <th>0</th>\n",
              "      <td>350000</td>\n",
              "      <td>416957</td>\n",
              "      <td>b</td>\n",
              "    </tr>\n",
              "    <tr>\n",
              "      <th>1</th>\n",
              "      <td>350001</td>\n",
              "      <td>89624</td>\n",
              "      <td>b</td>\n",
              "    </tr>\n",
              "    <tr>\n",
              "      <th>2</th>\n",
              "      <td>350002</td>\n",
              "      <td>519845</td>\n",
              "      <td>s</td>\n",
              "    </tr>\n",
              "    <tr>\n",
              "      <th>3</th>\n",
              "      <td>350003</td>\n",
              "      <td>510885</td>\n",
              "      <td>s</td>\n",
              "    </tr>\n",
              "    <tr>\n",
              "      <th>4</th>\n",
              "      <td>350004</td>\n",
              "      <td>455944</td>\n",
              "      <td>b</td>\n",
              "    </tr>\n",
              "    <tr>\n",
              "      <th>...</th>\n",
              "      <td>...</td>\n",
              "      <td>...</td>\n",
              "      <td>...</td>\n",
              "    </tr>\n",
              "    <tr>\n",
              "      <th>549995</th>\n",
              "      <td>899995</td>\n",
              "      <td>46701</td>\n",
              "      <td>b</td>\n",
              "    </tr>\n",
              "    <tr>\n",
              "      <th>549996</th>\n",
              "      <td>899996</td>\n",
              "      <td>323731</td>\n",
              "      <td>s</td>\n",
              "    </tr>\n",
              "    <tr>\n",
              "      <th>549997</th>\n",
              "      <td>899997</td>\n",
              "      <td>357749</td>\n",
              "      <td>b</td>\n",
              "    </tr>\n",
              "    <tr>\n",
              "      <th>549998</th>\n",
              "      <td>899998</td>\n",
              "      <td>486844</td>\n",
              "      <td>s</td>\n",
              "    </tr>\n",
              "    <tr>\n",
              "      <th>549999</th>\n",
              "      <td>899999</td>\n",
              "      <td>254659</td>\n",
              "      <td>b</td>\n",
              "    </tr>\n",
              "  </tbody>\n",
              "</table>\n",
              "<p>550000 rows × 3 columns</p>\n",
              "</div>\n",
              "      <button class=\"colab-df-convert\" onclick=\"convertToInteractive('df-9223711e-3998-491f-8923-7627b15daf10')\"\n",
              "              title=\"Convert this dataframe to an interactive table.\"\n",
              "              style=\"display:none;\">\n",
              "        \n",
              "  <svg xmlns=\"http://www.w3.org/2000/svg\" height=\"24px\"viewBox=\"0 0 24 24\"\n",
              "       width=\"24px\">\n",
              "    <path d=\"M0 0h24v24H0V0z\" fill=\"none\"/>\n",
              "    <path d=\"M18.56 5.44l.94 2.06.94-2.06 2.06-.94-2.06-.94-.94-2.06-.94 2.06-2.06.94zm-11 1L8.5 8.5l.94-2.06 2.06-.94-2.06-.94L8.5 2.5l-.94 2.06-2.06.94zm10 10l.94 2.06.94-2.06 2.06-.94-2.06-.94-.94-2.06-.94 2.06-2.06.94z\"/><path d=\"M17.41 7.96l-1.37-1.37c-.4-.4-.92-.59-1.43-.59-.52 0-1.04.2-1.43.59L10.3 9.45l-7.72 7.72c-.78.78-.78 2.05 0 2.83L4 21.41c.39.39.9.59 1.41.59.51 0 1.02-.2 1.41-.59l7.78-7.78 2.81-2.81c.8-.78.8-2.07 0-2.86zM5.41 20L4 18.59l7.72-7.72 1.47 1.35L5.41 20z\"/>\n",
              "  </svg>\n",
              "      </button>\n",
              "      \n",
              "  <style>\n",
              "    .colab-df-container {\n",
              "      display:flex;\n",
              "      flex-wrap:wrap;\n",
              "      gap: 12px;\n",
              "    }\n",
              "\n",
              "    .colab-df-convert {\n",
              "      background-color: #E8F0FE;\n",
              "      border: none;\n",
              "      border-radius: 50%;\n",
              "      cursor: pointer;\n",
              "      display: none;\n",
              "      fill: #1967D2;\n",
              "      height: 32px;\n",
              "      padding: 0 0 0 0;\n",
              "      width: 32px;\n",
              "    }\n",
              "\n",
              "    .colab-df-convert:hover {\n",
              "      background-color: #E2EBFA;\n",
              "      box-shadow: 0px 1px 2px rgba(60, 64, 67, 0.3), 0px 1px 3px 1px rgba(60, 64, 67, 0.15);\n",
              "      fill: #174EA6;\n",
              "    }\n",
              "\n",
              "    [theme=dark] .colab-df-convert {\n",
              "      background-color: #3B4455;\n",
              "      fill: #D2E3FC;\n",
              "    }\n",
              "\n",
              "    [theme=dark] .colab-df-convert:hover {\n",
              "      background-color: #434B5C;\n",
              "      box-shadow: 0px 1px 3px 1px rgba(0, 0, 0, 0.15);\n",
              "      filter: drop-shadow(0px 1px 2px rgba(0, 0, 0, 0.3));\n",
              "      fill: #FFFFFF;\n",
              "    }\n",
              "  </style>\n",
              "\n",
              "      <script>\n",
              "        const buttonEl =\n",
              "          document.querySelector('#df-9223711e-3998-491f-8923-7627b15daf10 button.colab-df-convert');\n",
              "        buttonEl.style.display =\n",
              "          google.colab.kernel.accessAllowed ? 'block' : 'none';\n",
              "\n",
              "        async function convertToInteractive(key) {\n",
              "          const element = document.querySelector('#df-9223711e-3998-491f-8923-7627b15daf10');\n",
              "          const dataTable =\n",
              "            await google.colab.kernel.invokeFunction('convertToInteractive',\n",
              "                                                     [key], {});\n",
              "          if (!dataTable) return;\n",
              "\n",
              "          const docLinkHtml = 'Like what you see? Visit the ' +\n",
              "            '<a target=\"_blank\" href=https://colab.research.google.com/notebooks/data_table.ipynb>data table notebook</a>'\n",
              "            + ' to learn more about interactive tables.';\n",
              "          element.innerHTML = '';\n",
              "          dataTable['output_type'] = 'display_data';\n",
              "          await google.colab.output.renderOutput(dataTable, element);\n",
              "          const docLink = document.createElement('div');\n",
              "          docLink.innerHTML = docLinkHtml;\n",
              "          element.appendChild(docLink);\n",
              "        }\n",
              "      </script>\n",
              "    </div>\n",
              "  </div>\n",
              "  "
            ]
          },
          "metadata": {},
          "execution_count": 94
        }
      ]
    },
    {
      "cell_type": "code",
      "source": [
        "test_predict['RankOrder'] = pp.argsort().argsort() + 1 # +1 to start at 1"
      ],
      "metadata": {
        "id": "Pajw_WgeRxUc"
      },
      "execution_count": 53,
      "outputs": []
    },
    {
      "cell_type": "code",
      "source": [
        "test_predict"
      ],
      "metadata": {
        "colab": {
          "base_uri": "https://localhost:8080/",
          "height": 424
        },
        "id": "4tnvQESZR4xs",
        "outputId": "b6dbfbea-0ca3-4b6e-c916-1656f1cc91b0"
      },
      "execution_count": 54,
      "outputs": [
        {
          "output_type": "execute_result",
          "data": {
            "text/plain": [
              "        EventId  RankOrder Class\n",
              "0        350000      11268     b\n",
              "1        350001     252742     b\n",
              "2        350002     445643     s\n",
              "3        350003     443564     s\n",
              "4        350004      85752     b\n",
              "...         ...        ...   ...\n",
              "549995   899995     181217     b\n",
              "549996   899996     399895     s\n",
              "549997   899997     110119     b\n",
              "549998   899998     406256     s\n",
              "549999   899999     306370     b\n",
              "\n",
              "[550000 rows x 3 columns]"
            ],
            "text/html": [
              "\n",
              "  <div id=\"df-0fc0cff1-4b2b-420d-97be-263c8ff79834\">\n",
              "    <div class=\"colab-df-container\">\n",
              "      <div>\n",
              "<style scoped>\n",
              "    .dataframe tbody tr th:only-of-type {\n",
              "        vertical-align: middle;\n",
              "    }\n",
              "\n",
              "    .dataframe tbody tr th {\n",
              "        vertical-align: top;\n",
              "    }\n",
              "\n",
              "    .dataframe thead th {\n",
              "        text-align: right;\n",
              "    }\n",
              "</style>\n",
              "<table border=\"1\" class=\"dataframe\">\n",
              "  <thead>\n",
              "    <tr style=\"text-align: right;\">\n",
              "      <th></th>\n",
              "      <th>EventId</th>\n",
              "      <th>RankOrder</th>\n",
              "      <th>Class</th>\n",
              "    </tr>\n",
              "  </thead>\n",
              "  <tbody>\n",
              "    <tr>\n",
              "      <th>0</th>\n",
              "      <td>350000</td>\n",
              "      <td>11268</td>\n",
              "      <td>b</td>\n",
              "    </tr>\n",
              "    <tr>\n",
              "      <th>1</th>\n",
              "      <td>350001</td>\n",
              "      <td>252742</td>\n",
              "      <td>b</td>\n",
              "    </tr>\n",
              "    <tr>\n",
              "      <th>2</th>\n",
              "      <td>350002</td>\n",
              "      <td>445643</td>\n",
              "      <td>s</td>\n",
              "    </tr>\n",
              "    <tr>\n",
              "      <th>3</th>\n",
              "      <td>350003</td>\n",
              "      <td>443564</td>\n",
              "      <td>s</td>\n",
              "    </tr>\n",
              "    <tr>\n",
              "      <th>4</th>\n",
              "      <td>350004</td>\n",
              "      <td>85752</td>\n",
              "      <td>b</td>\n",
              "    </tr>\n",
              "    <tr>\n",
              "      <th>...</th>\n",
              "      <td>...</td>\n",
              "      <td>...</td>\n",
              "      <td>...</td>\n",
              "    </tr>\n",
              "    <tr>\n",
              "      <th>549995</th>\n",
              "      <td>899995</td>\n",
              "      <td>181217</td>\n",
              "      <td>b</td>\n",
              "    </tr>\n",
              "    <tr>\n",
              "      <th>549996</th>\n",
              "      <td>899996</td>\n",
              "      <td>399895</td>\n",
              "      <td>s</td>\n",
              "    </tr>\n",
              "    <tr>\n",
              "      <th>549997</th>\n",
              "      <td>899997</td>\n",
              "      <td>110119</td>\n",
              "      <td>b</td>\n",
              "    </tr>\n",
              "    <tr>\n",
              "      <th>549998</th>\n",
              "      <td>899998</td>\n",
              "      <td>406256</td>\n",
              "      <td>s</td>\n",
              "    </tr>\n",
              "    <tr>\n",
              "      <th>549999</th>\n",
              "      <td>899999</td>\n",
              "      <td>306370</td>\n",
              "      <td>b</td>\n",
              "    </tr>\n",
              "  </tbody>\n",
              "</table>\n",
              "<p>550000 rows × 3 columns</p>\n",
              "</div>\n",
              "      <button class=\"colab-df-convert\" onclick=\"convertToInteractive('df-0fc0cff1-4b2b-420d-97be-263c8ff79834')\"\n",
              "              title=\"Convert this dataframe to an interactive table.\"\n",
              "              style=\"display:none;\">\n",
              "        \n",
              "  <svg xmlns=\"http://www.w3.org/2000/svg\" height=\"24px\"viewBox=\"0 0 24 24\"\n",
              "       width=\"24px\">\n",
              "    <path d=\"M0 0h24v24H0V0z\" fill=\"none\"/>\n",
              "    <path d=\"M18.56 5.44l.94 2.06.94-2.06 2.06-.94-2.06-.94-.94-2.06-.94 2.06-2.06.94zm-11 1L8.5 8.5l.94-2.06 2.06-.94-2.06-.94L8.5 2.5l-.94 2.06-2.06.94zm10 10l.94 2.06.94-2.06 2.06-.94-2.06-.94-.94-2.06-.94 2.06-2.06.94z\"/><path d=\"M17.41 7.96l-1.37-1.37c-.4-.4-.92-.59-1.43-.59-.52 0-1.04.2-1.43.59L10.3 9.45l-7.72 7.72c-.78.78-.78 2.05 0 2.83L4 21.41c.39.39.9.59 1.41.59.51 0 1.02-.2 1.41-.59l7.78-7.78 2.81-2.81c.8-.78.8-2.07 0-2.86zM5.41 20L4 18.59l7.72-7.72 1.47 1.35L5.41 20z\"/>\n",
              "  </svg>\n",
              "      </button>\n",
              "      \n",
              "  <style>\n",
              "    .colab-df-container {\n",
              "      display:flex;\n",
              "      flex-wrap:wrap;\n",
              "      gap: 12px;\n",
              "    }\n",
              "\n",
              "    .colab-df-convert {\n",
              "      background-color: #E8F0FE;\n",
              "      border: none;\n",
              "      border-radius: 50%;\n",
              "      cursor: pointer;\n",
              "      display: none;\n",
              "      fill: #1967D2;\n",
              "      height: 32px;\n",
              "      padding: 0 0 0 0;\n",
              "      width: 32px;\n",
              "    }\n",
              "\n",
              "    .colab-df-convert:hover {\n",
              "      background-color: #E2EBFA;\n",
              "      box-shadow: 0px 1px 2px rgba(60, 64, 67, 0.3), 0px 1px 3px 1px rgba(60, 64, 67, 0.15);\n",
              "      fill: #174EA6;\n",
              "    }\n",
              "\n",
              "    [theme=dark] .colab-df-convert {\n",
              "      background-color: #3B4455;\n",
              "      fill: #D2E3FC;\n",
              "    }\n",
              "\n",
              "    [theme=dark] .colab-df-convert:hover {\n",
              "      background-color: #434B5C;\n",
              "      box-shadow: 0px 1px 3px 1px rgba(0, 0, 0, 0.15);\n",
              "      filter: drop-shadow(0px 1px 2px rgba(0, 0, 0, 0.3));\n",
              "      fill: #FFFFFF;\n",
              "    }\n",
              "  </style>\n",
              "\n",
              "      <script>\n",
              "        const buttonEl =\n",
              "          document.querySelector('#df-0fc0cff1-4b2b-420d-97be-263c8ff79834 button.colab-df-convert');\n",
              "        buttonEl.style.display =\n",
              "          google.colab.kernel.accessAllowed ? 'block' : 'none';\n",
              "\n",
              "        async function convertToInteractive(key) {\n",
              "          const element = document.querySelector('#df-0fc0cff1-4b2b-420d-97be-263c8ff79834');\n",
              "          const dataTable =\n",
              "            await google.colab.kernel.invokeFunction('convertToInteractive',\n",
              "                                                     [key], {});\n",
              "          if (!dataTable) return;\n",
              "\n",
              "          const docLinkHtml = 'Like what you see? Visit the ' +\n",
              "            '<a target=\"_blank\" href=https://colab.research.google.com/notebooks/data_table.ipynb>data table notebook</a>'\n",
              "            + ' to learn more about interactive tables.';\n",
              "          element.innerHTML = '';\n",
              "          dataTable['output_type'] = 'display_data';\n",
              "          await google.colab.output.renderOutput(dataTable, element);\n",
              "          const docLink = document.createElement('div');\n",
              "          docLink.innerHTML = docLinkHtml;\n",
              "          element.appendChild(docLink);\n",
              "        }\n",
              "      </script>\n",
              "    </div>\n",
              "  </div>\n",
              "  "
            ]
          },
          "metadata": {},
          "execution_count": 54
        }
      ]
    },
    {
      "cell_type": "code",
      "source": [
        "test_predict.to_csv(\"submission.csv\",index=False) #1517th"
      ],
      "metadata": {
        "id": "fihNuCG9R6xe"
      },
      "execution_count": 57,
      "outputs": []
    },
    {
      "cell_type": "markdown",
      "source": [
        "#Without PCA result"
      ],
      "metadata": {
        "id": "XqSjEtXIyqlS"
      }
    },
    {
      "cell_type": "code",
      "source": [
        "#1354th withouth pca"
      ],
      "metadata": {
        "id": "MdLhYcDWSKiX"
      },
      "execution_count": null,
      "outputs": []
    }
  ]
}